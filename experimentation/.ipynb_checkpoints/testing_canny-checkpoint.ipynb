{
 "cells": [
  {
   "cell_type": "code",
   "execution_count": null,
   "id": "700596ec-89f2-4927-9c96-d5e6d13ff664",
   "metadata": {},
   "outputs": [],
   "source": [
    "from matplotlib import pyplot as plt\n",
    "%matplotlib inline\n",
    "import cv2\n",
    "import numpy as np\n",
    "import os"
   ]
  },
  {
   "cell_type": "code",
   "execution_count": null,
   "id": "90a2cd6f-c317-4827-894d-e9ca1c5c05f0",
   "metadata": {},
   "outputs": [],
   "source": [
    "# allows all images to be displayed at once (else only displays the last call to plt.imshow())\n",
    "# https://stackoverflow.com/a/41210974\n",
    "def displayImage(image, caption = None, colour = None) -> None:\n",
    "    plt.figure(figsize = (192 / 2, 108 / 2))\n",
    "    # plt.figure()\n",
    "    if(colour != None):\n",
    "        plt.imshow(image, cmap=colour)\n",
    "    else:\n",
    "        plt.imshow(image)\n",
    "        \n",
    "    if(caption != None):\n",
    "        # display caption below picture (https://stackoverflow.com/a/51486361)\n",
    "        plt.figtext(0.5, 0.01, caption, wrap=True, horizontalalignment='center', fontsize=60)"
   ]
  },
  {
   "cell_type": "code",
   "execution_count": null,
   "id": "27acc335-b287-4bc8-b8b7-66d490d337d0",
   "metadata": {},
   "outputs": [],
   "source": [
    "def edgeDetectCanny(im, t1, t2):\n",
    "    img_cp = im.copy()\n",
    "    \n",
    "    # do Gaussian blur - helps prevent shrubbery being picked up by Canny\n",
    "    img_cp = cv2.GaussianBlur(img_cp, (5,5), 0)\n",
    "    \n",
    "    # do Canny\n",
    "    canny = cv2.Canny(img_cp, t1, t2)\n",
    "\n",
    "    # apply canny mask onto input image\n",
    "    img_cp[canny != 0] = (0, 0, 255)\n",
    "    return img_cp"
   ]
  },
  {
   "cell_type": "code",
   "execution_count": null,
   "id": "905879c7-b73b-4098-af03-613e304f5b41",
   "metadata": {},
   "outputs": [],
   "source": [
    "# https://stackoverflow.com/a/44659589\n",
    "def image_resize(image, width = None, height = None, inter = cv2.INTER_AREA):\n",
    "    # initialize the dimensions of the image to be resized and\n",
    "    # grab the image size\n",
    "    dim = None\n",
    "    (h, w) = image.shape[:2]\n",
    "\n",
    "    # if both the width and height are None, then return the\n",
    "    # original image\n",
    "    if width is None and height is None:\n",
    "        return image\n",
    "\n",
    "    # check to see if the width is None\n",
    "    if width is None:\n",
    "        # calculate the ratio of the height and construct the\n",
    "        # dimensions\n",
    "        r = height / float(h)\n",
    "        dim = (int(w * r), height)\n",
    "\n",
    "    # otherwise, the height is None\n",
    "    else:\n",
    "        # calculate the ratio of the width and construct the\n",
    "        # dimensions\n",
    "        r = width / float(w)\n",
    "        dim = (width, int(h * r))\n",
    "\n",
    "    # resize the image\n",
    "    resized = cv2.resize(image, dim, interpolation = inter)\n",
    "\n",
    "    # return the resized image\n",
    "    return resized"
   ]
  },
  {
   "cell_type": "markdown",
   "id": "18cac45b-f510-4df5-84af-2ac1f44f0057",
   "metadata": {},
   "source": [
    "# Use some sampled images and perform Canny on them to assess results"
   ]
  },
  {
   "cell_type": "code",
   "execution_count": null,
   "id": "6bf2b0eb-5b20-4bee-bdf6-2135e7e0b76d",
   "metadata": {},
   "outputs": [],
   "source": [
    "folders = ['BB01','BB04']\n",
    "# folders = ['BB01']\n",
    "dark_flags_bb01 = [False, True, True, True, True, True, True, True]\n",
    "dark_flags_bb04 = [True, False, True, True, True, True, False, False, False, False, False, False, False, False, False, False, False, False, False, False, False, False, False, False]\n",
    "# dark_flags = [*dark_flags_bb01, *dark_flags_bb04]\n",
    "\n",
    "for folder in folders:\n",
    "    all_image_filenames = next(os.walk('../data/canny_test_images/{}/'.format(folder)),\n",
    "                             (None, None, []))[2]  # [] if no file\n",
    "    all_image_filenames.sort()\n",
    "    print('all_image_filenames: {}'.format(all_image_filenames))\n",
    "    if folder == 'BB01':\n",
    "        dark_flags = dark_flags_bb01\n",
    "    elif folder == 'BB04':\n",
    "        dark_flags = dark_flags_bb04\n",
    "    for fn, dark_flag in zip(all_image_filenames, dark_flags):\n",
    "        im = cv2.imread('../data/canny_test_images/{}/{}'.format(folder, fn))\n",
    "        im = image_resize(im, height = 540)\n",
    "        displayImage(cv2.cvtColor(im, cv2.COLOR_BGR2RGB), 'Original image: {}/{}'.format(folder, fn))\n",
    "        \n",
    "        # if dark_flag:\n",
    "        #     print('{}/{} DOES have dark flag'.format(folder, fn))\n",
    "        #     t1 = 120\n",
    "        #     t2 = 200\n",
    "        #     im_canny = edgeDetectCanny(im, t1, t2)\n",
    "        # else:\n",
    "        #     print('{}/{} DOES NOT dark flag'.format(folder, fn))\n",
    "        #     t1 = 200\n",
    "        #     t2 = 255\n",
    "        #     im_canny = edgeDetectCanny(im, t1, t2)\n",
    "        t1 = 80\n",
    "        t2 = 255\n",
    "        im_canny = edgeDetectCanny(im, t1, t2)\n",
    "        displayImage(cv2.cvtColor(im_canny, cv2.COLOR_BGR2RGB), 'Canny: {}/{} (t1={}, t2={}, dark_flag={})'.format(folder, fn, t1, t2, dark_flag))\n",
    "        \n",
    "#         t1 = 100\n",
    "#         t2 = 255\n",
    "#         im_canny_1 = edgeDetectCanny(im, t1, t2)\n",
    "#         displayImage(cv2.cvtColor(im_canny_1, cv2.COLOR_BGR2RGB), 'Canny: {}/{} (t1={}, t2={})'.format(folder, fn, t1, t2))\n",
    "        \n",
    "#         t1 = 120\n",
    "#         t2 = 255\n",
    "#         im_canny_2 = edgeDetectCanny(im, t1, t2)\n",
    "#         displayImage(cv2.cvtColor(im_canny_2, cv2.COLOR_BGR2RGB), 'Canny: {}/{} (t1={}, t2={})'.format(folder, fn, t1, t2))\n",
    "        \n",
    "#         t1 = 140\n",
    "#         t2 = 255\n",
    "#         im_canny_3 = edgeDetectCanny(im, t1, t2)\n",
    "#         displayImage(cv2.cvtColor(im_canny_3, cv2.COLOR_BGR2RGB), 'Canny: {}/{} (t1={}, t2={})'.format(folder, fn, t1, t2))\n",
    "        \n",
    "#         t1 = 160\n",
    "#         t2 = 255\n",
    "#         im_canny_3 = edgeDetectCanny(im, t1, t2)\n",
    "#         displayImage(cv2.cvtColor(im_canny_3, cv2.COLOR_BGR2RGB), 'Canny: {}/{} (t1={}, t2={})'.format(folder, fn, t1, t2))\n",
    "        \n",
    "#         t1 = 180\n",
    "#         t2 = 255\n",
    "#         im_canny_3 = edgeDetectCanny(im, t1, t2)\n",
    "#         displayImage(cv2.cvtColor(im_canny_3, cv2.COLOR_BGR2RGB), 'Canny: {}/{} (t1={}, t2={})'.format(folder, fn, t1, t2))\n",
    "        \n",
    "#         t1 = 200\n",
    "#         t2 = 255\n",
    "#         im_canny_3 = edgeDetectCanny(im, t1, t2)\n",
    "#         displayImage(cv2.cvtColor(im_canny_3, cv2.COLOR_BGR2RGB), 'Canny: {}/{} (t1={}, t2={})'.format(folder, fn, t1, t2))\n",
    "        \n",
    "#         t1 = 220\n",
    "#         t2 = 255\n",
    "#         im_canny_3 = edgeDetectCanny(im, t1, t2)\n",
    "#         displayImage(cv2.cvtColor(im_canny_3, cv2.COLOR_BGR2RGB), 'Canny: {}/{} (t1={}, t2={})'.format(folder, fn, t1, t2))\n",
    "        \n",
    "#         # ===\n",
    "        \n",
    "#         t1 = 100\n",
    "#         t2 = 200\n",
    "#         im_canny_3 = edgeDetectCanny(im, t1, t2)\n",
    "#         displayImage(cv2.cvtColor(im_canny_3, cv2.COLOR_BGR2RGB), 'Canny: {}/{} (t1={}, t2={})'.format(folder, fn, t1, t2))\n",
    "        \n",
    "#         t1 = 120\n",
    "#         t2 = 200\n",
    "#         im_canny_3 = edgeDetectCanny(im, t1, t2)\n",
    "#         displayImage(cv2.cvtColor(im_canny_3, cv2.COLOR_BGR2RGB), 'Canny: {}/{} (t1={}, t2={})'.format(folder, fn, t1, t2))\n",
    "        \n",
    "#         t1 = 140\n",
    "#         t2 = 200\n",
    "#         im_canny_3 = edgeDetectCanny(im, t1, t2)\n",
    "#         displayImage(cv2.cvtColor(im_canny_3, cv2.COLOR_BGR2RGB), 'Canny: {}/{} (t1={}, t2={})'.format(folder, fn, t1, t2))\n",
    "        \n",
    "#         # ===\n",
    "        \n",
    "#         t1 = 50\n",
    "#         t2 = 180\n",
    "#         im_canny_3 = edgeDetectCanny(im, t1, t2)\n",
    "#         displayImage(cv2.cvtColor(im_canny_3, cv2.COLOR_BGR2RGB), 'Canny: {}/{} (t1={}, t2={})'.format(folder, fn, t1, t2))\n",
    "        \n",
    "#         t1 = 70\n",
    "#         t2 = 180\n",
    "#         im_canny_3 = edgeDetectCanny(im, t1, t2)\n",
    "#         displayImage(cv2.cvtColor(im_canny_3, cv2.COLOR_BGR2RGB), 'Canny: {}/{} (t1={}, t2={})'.format(folder, fn, t1, t2))\n",
    "        \n",
    "#         t1 = 90\n",
    "#         t2 = 180\n",
    "#         im_canny_3 = edgeDetectCanny(im, t1, t2)\n",
    "#         displayImage(cv2.cvtColor(im_canny_3, cv2.COLOR_BGR2RGB), 'Canny: {}/{} (t1={}, t2={})'.format(folder, fn, t1, t2))"
   ]
  },
  {
   "cell_type": "markdown",
   "id": "14867f7b-22b2-4b0a-82a1-d01e09f43e27",
   "metadata": {},
   "source": [
    "# Initial Canny experimentation"
   ]
  },
  {
   "cell_type": "code",
   "execution_count": null,
   "id": "58cc4889-edae-4b8a-8e60-75f014ae4e01",
   "metadata": {},
   "outputs": [],
   "source": [
    "# canny thresholds\n",
    "t1 = 100\n",
    "t2 = 220"
   ]
  },
  {
   "cell_type": "markdown",
   "id": "7fd48f99-1301-4e24-9e92-39913ee2ad59",
   "metadata": {},
   "source": [
    "## Emu in daylight"
   ]
  },
  {
   "cell_type": "code",
   "execution_count": null,
   "id": "4e9d8461-4c0b-4c79-b65d-591c6fd00bd2",
   "metadata": {},
   "outputs": [],
   "source": [
    "img = cv2.imread('../data/20160724_July/BB01/IMG_0029.JPG')\n",
    "displayImage(cv2.cvtColor(img,cv2.COLOR_BGR2RGB), 'Original image')\n",
    "\n",
    "img_cp = img.copy()\n",
    "\n",
    "\n",
    "canny = cv2.Canny(img, t1, t2)\n",
    "img_cp[canny != 0] = (0, 255, 0)\n",
    "\n",
    "displayImage(img_cp, 'Canny - t1={}, t2={}'.format(t1, t2))"
   ]
  },
  {
   "cell_type": "markdown",
   "id": "cecfba51-4ced-41c8-9b7f-934cb0ebd7f3",
   "metadata": {},
   "source": [
    "## Kangaroo in twilight\n",
    "* compare without/with linear transform applied (brightness and contrast enhancement)"
   ]
  },
  {
   "cell_type": "code",
   "execution_count": null,
   "id": "45484123-284e-47e4-a099-256df937e7c5",
   "metadata": {},
   "outputs": [],
   "source": [
    "img = cv2.imread('../data/20160724_July/BB01/IMG_0057.JPG')\n",
    "displayImage(cv2.cvtColor(img,cv2.COLOR_BGR2RGB), 'Original image')"
   ]
  },
  {
   "cell_type": "code",
   "execution_count": null,
   "id": "ba6a0053-99b0-4173-930a-4d3f0929d953",
   "metadata": {},
   "outputs": [],
   "source": [
    "img_cp = img.copy()\n",
    "\n",
    "canny = cv2.Canny(img_cp, t1, t2)\n",
    "img_cp[canny != 0] = (0, 255, 0)\n",
    "\n",
    "displayImage(img_cp, 'Canny with no brightness enhancement - t1={}, t2={}'.format(t1, t2))"
   ]
  },
  {
   "cell_type": "code",
   "execution_count": null,
   "id": "667a663e-021c-4dd9-8622-0ed816bd08d0",
   "metadata": {},
   "outputs": [],
   "source": [
    "img_cp = img.copy()\n",
    "\n",
    "# increase contrast/brightness\n",
    "new_image = np.zeros(img_cp.shape, img_cp.dtype)\n",
    "alpha = 1.4  # base value is 1.0 - can be 1.0 - 3.0\n",
    "beta = 30  # base value is 0 - can be 0 - 100\n",
    "for y in range(img_cp.shape[0]):\n",
    "    for x in range(img_cp.shape[1]):\n",
    "        for c in range(img_cp.shape[2]):\n",
    "            new_image[y,x,c] = np.clip(alpha*img_cp[y,x,c] + beta, 0, 255)\n",
    "displayImage(cv2.cvtColor(new_image,cv2.COLOR_BGR2RGB), 'Contrast/brightness enhanced. alpha: {}, beta: {}'.format(alpha, beta))"
   ]
  },
  {
   "cell_type": "code",
   "execution_count": null,
   "id": "0d34aa14-f6fc-4b78-a1a8-d3eb16fcba63",
   "metadata": {},
   "outputs": [],
   "source": [
    "canny = cv2.Canny(new_image, t1, t2)\n",
    "new_image[canny != 0] = (0, 255, 0)\n",
    "\n",
    "displayImage(new_image, 'Canny with brightness enhancement (not much difference) - t1={}, t2={}'.format(t1, t2))"
   ]
  },
  {
   "cell_type": "markdown",
   "id": "9394affd-d8c6-4844-8473-c66c621946f4",
   "metadata": {},
   "source": [
    "## Kangaroo at night\n",
    "* compare without/with linear transform applied (brightness and contrast enhancement)"
   ]
  },
  {
   "cell_type": "code",
   "execution_count": null,
   "id": "7b741fb1-ecd1-4d0e-adcc-4dc616d40f91",
   "metadata": {},
   "outputs": [],
   "source": [
    "img = cv2.imread('../data/20160724_July/BB01/IMG_0012.JPG')\n",
    "displayImage(cv2.cvtColor(img,cv2.COLOR_BGR2RGB), 'Original image')"
   ]
  },
  {
   "cell_type": "code",
   "execution_count": null,
   "id": "81a6ab61-ead7-4721-a4ad-5e9d35e346a5",
   "metadata": {},
   "outputs": [],
   "source": [
    "img_cp = img.copy()\n",
    "\n",
    "canny = cv2.Canny(img_cp, t1, t2)\n",
    "img_cp[canny != 0] = (0, 255, 0)\n",
    "\n",
    "displayImage(img_cp, 'Canny with no brightness enhancement - t1={}, t2={}'.format(t1, t2))"
   ]
  },
  {
   "cell_type": "code",
   "execution_count": null,
   "id": "3658e69b-dcea-4b6e-b195-c9a9d6a4e78c",
   "metadata": {},
   "outputs": [],
   "source": [
    "img_cp = img.copy()\n",
    "\n",
    "# increase contrast/brightness\n",
    "new_image = np.zeros(img_cp.shape, img_cp.dtype)\n",
    "alpha = 1.4  # base value is 1.0 - can be 1.0 - 3.0\n",
    "beta = 30  # base value is 0 - can be 0 - 100\n",
    "for y in range(img_cp.shape[0]):\n",
    "    for x in range(img_cp.shape[1]):\n",
    "        for c in range(img_cp.shape[2]):\n",
    "            new_image[y,x,c] = np.clip(alpha*img_cp[y,x,c] + beta, 0, 255)\n",
    "displayImage(cv2.cvtColor(new_image,cv2.COLOR_BGR2RGB), 'Contrast/brightness enhanced. alpha: {}, beta: {}'.format(alpha, beta))"
   ]
  },
  {
   "cell_type": "code",
   "execution_count": null,
   "id": "ec8bf9e6-a04b-4ac2-a9c0-74b68710a8b4",
   "metadata": {},
   "outputs": [],
   "source": [
    "canny = cv2.Canny(new_image, t1, t2)\n",
    "new_image[canny != 0] = (0, 255, 0)\n",
    "\n",
    "displayImage(new_image, 'Canny with brightness enhancement (not much difference) - t1={}, t2={}'.format(t1, t2))"
   ]
  },
  {
   "cell_type": "code",
   "execution_count": null,
   "id": "312b1558-c3af-4cf7-b7a1-2a551f988a19",
   "metadata": {},
   "outputs": [],
   "source": []
  }
 ],
 "metadata": {
  "kernelspec": {
   "display_name": "Python 3 (ipykernel)",
   "language": "python",
   "name": "python3"
  },
  "language_info": {
   "codemirror_mode": {
    "name": "ipython",
    "version": 3
   },
   "file_extension": ".py",
   "mimetype": "text/x-python",
   "name": "python",
   "nbconvert_exporter": "python",
   "pygments_lexer": "ipython3",
   "version": "3.9.12"
  }
 },
 "nbformat": 4,
 "nbformat_minor": 5
}
