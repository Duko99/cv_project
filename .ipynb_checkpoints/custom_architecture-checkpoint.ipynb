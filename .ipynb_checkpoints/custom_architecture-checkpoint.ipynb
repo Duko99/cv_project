{
 "cells": [
  {
   "cell_type": "markdown",
   "id": "738cb308-1b63-4d36-969a-ee82479a4d4d",
   "metadata": {},
   "source": [
    "# Custom Architecture"
   ]
  },
  {
   "cell_type": "code",
   "execution_count": null,
   "id": "00880bee-cb57-4770-9e66-94f8670c7066",
   "metadata": {},
   "outputs": [],
   "source": [
    "import matplotlib.pyplot as plt\n",
    "%matplotlib inline\n",
    "import tensorflow as tf\n",
    "from numba import cuda  # https://stackoverflow.com/a/52354865/6476994\n",
    "import keras\n",
    "import cv2\n",
    "import numpy as np\n",
    "from sklearn.metrics import classification_report\n",
    "from sklearn.metrics import confusion_matrix\n",
    "from sklearn.metrics import accuracy_score\n",
    "from datetime import datetime\n",
    "from readInImages import readInImages\n",
    "from readInAnnotations import readInAnnotations"
   ]
  },
  {
   "cell_type": "code",
   "execution_count": null,
   "id": "25dc1f62-3344-4edb-ac1d-cef2dc64a7c9",
   "metadata": {},
   "outputs": [],
   "source": [
    "# allows all images to be displayed at once (else only displays the last call to plt.imshow())\n",
    "# https://stackoverflow.com/a/41210974\n",
    "def displayImage(image, caption = None, colour = None) -> None:\n",
    "    plt.figure()\n",
    "    if(colour != None):\n",
    "        plt.imshow(image, cmap=colour)\n",
    "    else:\n",
    "        plt.imshow(image)\n",
    "        \n",
    "    if(caption != None):\n",
    "        # display caption below picture (https://stackoverflow.com/a/51486361)\n",
    "        plt.figtext(0.5, 0.01, caption, wrap=True, horizontalalignment='center', fontsize=12)"
   ]
  },
  {
   "cell_type": "code",
   "execution_count": null,
   "id": "c8d9c5db-e3ea-4499-bb07-564b0712384a",
   "metadata": {},
   "outputs": [],
   "source": [
    "# free up GPU if it didn't after the last run\n",
    "cuda.select_device(0)\n",
    "cuda.close()"
   ]
  },
  {
   "cell_type": "markdown",
   "id": "ada5f0f1-8ad7-4fdd-a1b3-6292eaeca277",
   "metadata": {},
   "source": [
    "## Read in dataset"
   ]
  },
  {
   "cell_type": "markdown",
   "id": "84e8202f-c300-429f-9dca-c44c8b19a8f6",
   "metadata": {},
   "source": [
    "* first argument is the `using_batch_generator` flag\n",
    "* second argument is `do_preprocessing`, which will perform image manipulations for the purposes of enhancing training performance\n",
    "* all other arguments are the datasets - e.g., a folder ('20160724_July') with additional folders ('BB01', 'BB02', ..., 'BBXY'), each containing a set of images)"
   ]
  },
  {
   "cell_type": "code",
   "execution_count": null,
   "id": "c5d6a9c7-b998-41ff-bb75-cf4591f0d46b",
   "metadata": {},
   "outputs": [],
   "source": [
    "# %run readInDataset.py true false 20160724_July 20160829_August\n",
    "%run readInDataset.py true false 20160724_July"
   ]
  },
  {
   "cell_type": "code",
   "execution_count": null,
   "id": "4287c84a-7a60-40cd-8879-70c59ef9944c",
   "metadata": {},
   "outputs": [],
   "source": [
    "class CustomGenerator(keras.utils.Sequence):    \n",
    "    def __init__(self, images, labels, batch_size):\n",
    "        self.images = images\n",
    "        self.labels = labels\n",
    "        self.batch_size = batch_size\n",
    "    \n",
    "    def __len__(self):\n",
    "        return (np.ceil(len(self.images) / float(self.batch_size))).astype(np.int)\n",
    "\n",
    "    def __getitem__(self, idx):\n",
    "        batch_x = self.images[idx * self.batch_size : (idx+1) * self.batch_size]\n",
    "        batch_y = self.labels[idx * self.batch_size : (idx+1) * self.batch_size]\n",
    "        \n",
    "        return batch_x, np.array(batch_y)"
   ]
  },
  {
   "cell_type": "code",
   "execution_count": null,
   "id": "788734e7-3914-4445-b511-c17a376dcc59",
   "metadata": {},
   "outputs": [],
   "source": [
    "batch_size = 128\n",
    "\n",
    "num_len_train = int(0.8 * len(training_images))\n",
    "\n",
    "ttraining_images = training_images[:num_len_train]\n",
    "ttraining_labels = training_labels[:num_len_train]\n",
    "\n",
    "valid_images = training_images[num_len_train:]\n",
    "valid_labels = training_labels[num_len_train:]\n",
    "\n",
    "training_images = ttraining_images\n",
    "training_labels = ttraining_labels\n",
    "\n",
    "# show a few samples\n",
    "displayImage(training_images[0])\n",
    "displayImage(training_images[10])\n",
    "displayImage(training_images[100])\n",
    "displayImage(training_images[1000])\n",
    "\n",
    "training_batch_generator = CustomGenerator(training_images, training_labels, batch_size)\n",
    "validation_batch_generator = CustomGenerator(valid_images, valid_labels, batch_size)"
   ]
  },
  {
   "cell_type": "markdown",
   "id": "262685ea-98bc-4b8b-9cd5-201953a5420b",
   "metadata": {},
   "source": [
    "## Construct the model architecture"
   ]
  },
  {
   "cell_type": "code",
   "execution_count": null,
   "id": "f7060e7d-50dd-4329-b172-da12ac9e2867",
   "metadata": {},
   "outputs": [],
   "source": [
    "# TODO: try various `Random<X>` layer pre-processing classes\n",
    "model = tf.keras.models.Sequential([\n",
    "    tf.keras.layers.Conv2D(96, (7, 7), strides=(2, 2), activation='relu',input_shape=(224, 224, 3)),\n",
    "    tf.keras.layers.MaxPooling2D(3, strides=2),\n",
    "    tf.keras.layers.Flatten(),\n",
    "    tf.keras.layers.Dense(2048, activation = 'relu'),\n",
    "    tf.keras.layers.Dense(len(classes), activation='softmax')\n",
    "])\n",
    "\n",
    "model.compile(loss='ca|tegorical_crossentropy',\n",
    "              optimizer = 'adam',\n",
    "              metrics=['accuracy', tf.keras.metrics.TopKCategoricalAccuracy(5),\n",
    "                      tf.keras.metrics.CategoricalAccuracy])"
   ]
  },
  {
   "cell_type": "code",
   "execution_count": null,
   "id": "34514a53-6f6e-4856-9ed0-f35f4d6fe2de",
   "metadata": {},
   "outputs": [],
   "source": [
    "model.summary()"
   ]
  },
  {
   "cell_type": "markdown",
   "id": "2e45b2ff-db77-43ad-a2a2-1b3e9444e387",
   "metadata": {},
   "source": [
    "## Train the model"
   ]
  },
  {
   "cell_type": "code",
   "execution_count": null,
   "id": "73154d3b-c99b-492f-8ecd-82c0228cc98d",
   "metadata": {},
   "outputs": [],
   "source": [
    "model.fit(training_batch_generator,\n",
    "          validation_data=validation_batch_generator,\n",
    "          epochs=20)"
   ]
  },
  {
   "cell_type": "markdown",
   "id": "4cb7e0ed-4baf-4c31-a84b-c328019a90d6",
   "metadata": {
    "tags": []
   },
   "source": [
    "## Use test set to assess trained model's performance"
   ]
  },
  {
   "cell_type": "markdown",
   "id": "39338a7b-6a1a-4994-9396-202eddcff475",
   "metadata": {},
   "source": [
    "### Evaluate"
   ]
  },
  {
   "cell_type": "code",
   "execution_count": null,
   "id": "b7c21960-4a3d-46cb-8dfd-d3b8a8314ca7",
   "metadata": {},
   "outputs": [],
   "source": [
    "print('test_images shape: {}'.format(test_images.shape))\n",
    "print('test_labels shape: {}'.format(test_labels.shape))\n",
    "\n",
    "results = model.evaluate(test_images,test_labels)\n",
    "print('results: {}'.format(results))\n",
    "print('loss: {}'.format(results[0]))\n",
    "print('accuracy: {}'.format(results[1]))\n",
    "print('top_k_categorical_accuracy: {}'.format(results[2]))"
   ]
  },
  {
   "cell_type": "markdown",
   "id": "a1299c44-73c4-4642-80db-efc88c5d4c8e",
   "metadata": {
    "tags": []
   },
   "source": [
    "### Predict and print classification report"
   ]
  },
  {
   "cell_type": "code",
   "execution_count": null,
   "id": "6fe1c3ec-df1b-43ce-85bc-bbaa8f031152",
   "metadata": {},
   "outputs": [],
   "source": [
    "predictions = (model.predict(test_images) > 0.5).astype(\"int32\")"
   ]
  },
  {
   "cell_type": "code",
   "execution_count": null,
   "id": "4f4bdcc8-91ca-44a1-a7a5-6661efc3e27c",
   "metadata": {},
   "outputs": [],
   "source": [
    "print(\"test_classes: {}\".format(test_classes))\n",
    "print(\"train classes count: {}\".format(counter_test))\n",
    "# classification_report uses alphabetic ordering of the classes, so to match the encoded labels to the target_names, provide a sortest list of classes\n",
    "# https://stackoverflow.com/a/48495303\n",
    "sorted_test_classes = sorted(test_classes)\n",
    "print(classification_report(test_labels, predictions, target_names=sorted_test_classes))"
   ]
  },
  {
   "cell_type": "markdown",
   "id": "480e9dc7-4664-4797-bb0f-d906323c0b2d",
   "metadata": {
    "tags": []
   },
   "source": [
    "### Confusion matrix"
   ]
  },
  {
   "cell_type": "code",
   "execution_count": null,
   "id": "4fc22b4a-20a2-4308-a357-4b09fa2bf9b7",
   "metadata": {
    "tags": []
   },
   "outputs": [],
   "source": [
    "matrix = confusion_matrix(test_labels.argmax(axis=1), predictions.argmax(axis=1))\n",
    "print(matrix)"
   ]
  },
  {
   "cell_type": "markdown",
   "id": "27330c8d-6bdd-430e-92e1-cdb793550fd7",
   "metadata": {
    "tags": []
   },
   "source": [
    "### Accuracy"
   ]
  },
  {
   "cell_type": "code",
   "execution_count": null,
   "id": "62542731-9673-4346-98b1-9444f8235a55",
   "metadata": {},
   "outputs": [],
   "source": [
    "acc = accuracy_score(test_labels, predictions)\n",
    "print(acc)"
   ]
  },
  {
   "cell_type": "markdown",
   "id": "38e344be-ae22-493d-8e8a-42f2c10d2c8f",
   "metadata": {},
   "source": [
    "## Save the model\n",
    "* use the current date/time so we can keep incrementation progress of the model as we re-run it"
   ]
  },
  {
   "cell_type": "code",
   "execution_count": null,
   "id": "8756be70-e9c3-4cdb-887b-d8474f098a1a",
   "metadata": {},
   "outputs": [],
   "source": [
    "now = datetime.now()\n",
    "dt_string = now.strftime('%d-%m-%Y_%H:%M:%S')\n",
    "print(\"saving model as: 'ZFNet-{}.h5'.'\".format(dt_string))\n",
    "\n",
    "model.save('saved_models/ZFNet-{}.h5'.format(dt_string))"
   ]
  },
  {
   "cell_type": "markdown",
   "id": "47c8abd9-9d20-4f32-bfb5-831601f225fd",
   "metadata": {
    "tags": []
   },
   "source": [
    "## Free up the GPU's memory"
   ]
  },
  {
   "cell_type": "code",
   "execution_count": null,
   "id": "58fd49a3-8110-42de-9c09-f2bd19e38660",
   "metadata": {},
   "outputs": [],
   "source": [
    "cuda.select_device(0)\n",
    "cuda.close()"
   ]
  },
  {
   "cell_type": "code",
   "execution_count": null,
   "id": "6c62cde1-a780-4d0e-9236-4be7f35f453f",
   "metadata": {},
   "outputs": [],
   "source": []
  }
 ],
 "metadata": {
  "kernelspec": {
   "display_name": "Python 3 (ipykernel)",
   "language": "python",
   "name": "python3"
  },
  "language_info": {
   "codemirror_mode": {
    "name": "ipython",
    "version": 3
   },
   "file_extension": ".py",
   "mimetype": "text/x-python",
   "name": "python",
   "nbconvert_exporter": "python",
   "pygments_lexer": "ipython3",
   "version": "3.9.12"
  }
 },
 "nbformat": 4,
 "nbformat_minor": 5
}
