{
 "cells": [
  {
   "cell_type": "markdown",
   "id": "55adc7fe-bb37-41a6-99c3-b1f124c90b27",
   "metadata": {
    "tags": []
   },
   "source": [
    "# ZFNet\n",
    "\n",
    "Source: https://towardsdatascience.com/zfnet-an-explanation-of-paper-with-code-f1bd6752121d"
   ]
  },
  {
   "cell_type": "code",
   "execution_count": null,
   "id": "9ad62cb3-b86d-4a0a-8492-ef09608a4c8a",
   "metadata": {},
   "outputs": [],
   "source": [
    "import matplotlib.pyplot as plt\n",
    "%matplotlib inline\n",
    "import tensorflow as tf\n",
    "import imageio as iio\n",
    "import os\n",
    "import xml.etree.ElementTree as ET\n",
    "import cv2\n",
    "import numpy as np\n",
    "from PIL import Image\n",
    "from numba import cuda  # https://stackoverflow.com/a/52354865/6476994\n",
    "import keras\n",
    "from keras.utils.np_utils import to_categorical\n",
    "from sklearn.metrics import classification_report\n",
    "from sklearn.metrics import confusion_matrix\n",
    "from sklearn.metrics import accuracy_score\n",
    "from sklearn.preprocessing import LabelEncoder\n",
    "from sklearn.model_selection import train_test_split\n",
    "import csv\n",
    "import re\n",
    "from datetime import datetime\n",
    "import collections\n",
    "from readInImages import readInImages\n",
    "from readInAnnotations import readInAnnotations"
   ]
  },
  {
   "cell_type": "code",
   "execution_count": null,
   "id": "8c4a177c-422b-48b4-b51f-ac05542a4e80",
   "metadata": {},
   "outputs": [],
   "source": [
    "# allows all images to be displayed at once (else only displays the last call to plt.imshow())\n",
    "# https://stackoverflow.com/a/41210974\n",
    "def displayImage(image, caption = None, colour = None) -> None:\n",
    "    plt.figure()\n",
    "    if(colour != None):\n",
    "        plt.imshow(image, cmap=colour)\n",
    "    else:\n",
    "        plt.imshow(image)\n",
    "        \n",
    "    if(caption != None):\n",
    "        # display caption below picture (https://stackoverflow.com/a/51486361)\n",
    "        plt.figtext(0.5, 0.01, caption, wrap=True, horizontalalignment='center', fontsize=12)"
   ]
  },
  {
   "cell_type": "code",
   "execution_count": null,
   "id": "2162b806-d6bd-47ba-acc3-3f7209a27997",
   "metadata": {},
   "outputs": [],
   "source": [
    "# free up GPU if it didn't after the last run\n",
    "cuda.select_device(0)\n",
    "cuda.close()"
   ]
  },
  {
   "cell_type": "markdown",
   "id": "760dbfe7-ea61-44ed-bbbd-1d3d3b576c3f",
   "metadata": {},
   "source": [
    "# Read in dataset"
   ]
  },
  {
   "cell_type": "markdown",
   "id": "efeebe57-aaf2-481c-a037-2808e3c77f5f",
   "metadata": {},
   "source": [
    "* first argument is the `using_batch_generator` flag\n",
    "* second argument is `do_preprocessing`, which will perform image manipulations for the purposes of enhancing training performance\n",
    "* all other arguments are the datasets - e.g., a folder ('20160724_July') with additional folders ('BB01', 'BB02', ..., 'BBXY'), each containing a set of images)"
   ]
  },
  {
   "cell_type": "code",
   "execution_count": null,
   "id": "f42eb66a-f1c0-4f3b-b2ff-91928f3cba51",
   "metadata": {},
   "outputs": [],
   "source": [
    "%run readInDataset.py true true 20160724_July 20160829_August"
   ]
  },
  {
   "cell_type": "code",
   "execution_count": null,
   "id": "57230f5c-4bee-4e99-b6af-666a8f64a7c2",
   "metadata": {},
   "outputs": [],
   "source": [
    "class CustomGenerator(keras.utils.Sequence):    \n",
    "    def __init__(self, images, labels, batch_size):\n",
    "        self.images = images\n",
    "        self.labels = labels\n",
    "        self.batch_size = batch_size\n",
    "    \n",
    "    def __len__(self):\n",
    "        return (np.ceil(len(self.images) / float(self.batch_size))).astype(np.int)\n",
    "\n",
    "    def __getitem__(self, idx):\n",
    "        batch_x = self.images[idx * self.batch_size : (idx+1) * self.batch_size]\n",
    "        batch_y = self.labels[idx * self.batch_size : (idx+1) * self.batch_size]\n",
    "        \n",
    "        return batch_x, np.array(batch_y)"
   ]
  },
  {
   "cell_type": "code",
   "execution_count": null,
   "id": "80f7e603-ec84-4759-bc55-ea7fc91b0adf",
   "metadata": {},
   "outputs": [],
   "source": [
    "batch_size = 128\n",
    "\n",
    "num_len_train = int(0.8 * len(training_images))\n",
    "\n",
    "ttraining_images = training_images[:num_len_train]\n",
    "ttraining_labels = training_labels[:num_len_train]\n",
    "\n",
    "valid_images = training_images[num_len_train:]\n",
    "valid_labels = training_labels[num_len_train:]\n",
    "\n",
    "training_images = ttraining_images\n",
    "training_labels = ttraining_labels\n",
    "\n",
    "# show a few samples\n",
    "displayImage(training_images[0])\n",
    "displayImage(training_images[10])\n",
    "displayImage(training_images[100])\n",
    "displayImage(training_images[1000])\n",
    "\n",
    "training_batch_generator = CustomGenerator(training_images, training_labels, batch_size)\n",
    "validation_batch_generator = CustomGenerator(valid_images, valid_labels, batch_size)"
   ]
  },
  {
   "cell_type": "markdown",
   "id": "da469ee2-ad90-402b-9b57-55a1388138e3",
   "metadata": {},
   "source": [
    "## Train the model"
   ]
  },
  {
   "cell_type": "code",
   "execution_count": null,
   "id": "6d882d77-9109-494a-8c37-7ee3518adf8d",
   "metadata": {},
   "outputs": [],
   "source": [
    "model = tf.keras.models.Sequential([                                    \n",
    "    tf.keras.layers.Conv2D(96, (7, 7), strides=(2, 2), activation='relu',input_shape=(224, 224, 3)),\n",
    "    tf.keras.layers.MaxPooling2D(3, strides=2),\n",
    "    tf.keras.layers.Lambda(lambda x: tf.image.per_image_standardization(x)),\n",
    "    tf.keras.layers.Conv2D(256, (5, 5), strides=(2, 2), activation='relu'),\n",
    "    tf.keras.layers.MaxPooling2D(3, strides=2),\n",
    "    tf.keras.layers.Lambda(lambda x: tf.image.per_image_standardization(x)),\n",
    "    tf.keras.layers.Conv2D(384, (3, 3), activation='relu'),\n",
    "    tf.keras.layers.Conv2D(384, (3, 3), activation='relu'),\n",
    "    tf.keras.layers.Conv2D(256, (3, 3), activation='relu'),\n",
    "    tf.keras.layers.MaxPooling2D(3, strides=2),\n",
    "    tf.keras.layers.Flatten(),\n",
    "    tf.keras.layers.Dense(4096),\n",
    "    tf.keras.layers.Dense(4096),\n",
    "    tf.keras.layers.Dense(len(classes), activation='softmax')\n",
    "])\n",
    "\n",
    "\n",
    "model.compile(optimizer=tf.keras.optimizers.SGD(lr=0.01, momentum=0.9), \\\n",
    "              loss='categorical_crossentropy', \\\n",
    "              metrics=['accuracy', tf.keras.metrics.TopKCategoricalAccuracy(5)])\n",
    "\n",
    "reduce_lr = tf.keras.callbacks.ReduceLROnPlateau(monitor='val_loss', \\\n",
    "    factor=0.1, patience=1, \\\n",
    "    min_lr=0.00001)\n",
    "\n",
    "model.fit(training_batch_generator,\n",
    "          validation_data=validation_batch_generator,\n",
    "          epochs=90,\n",
    "          callbacks=[reduce_lr])"
   ]
  },
  {
   "cell_type": "markdown",
   "id": "84830621-2504-4147-9c36-a9c24e0aa5a8",
   "metadata": {},
   "source": [
    "## Use test set to assess trained model's performance"
   ]
  },
  {
   "cell_type": "markdown",
   "id": "c9d43d1c-41ee-45f0-a341-3d2757eb5a12",
   "metadata": {},
   "source": [
    "### Evaluate"
   ]
  },
  {
   "cell_type": "code",
   "execution_count": null,
   "id": "b7c21960-4a3d-46cb-8dfd-d3b8a8314ca7",
   "metadata": {},
   "outputs": [],
   "source": [
    "print('test_images shape: {}'.format(test_images.shape))\n",
    "print('test_labels shape: {}'.format(test_labels.shape))\n",
    "\n",
    "results = model.evaluate(test_images,test_labels)\n",
    "print('loss: {}'.format(results[0]))\n",
    "print('accuracy: {}'.format(results[1]))\n",
    "print('top_k_categorical_accuracy: {}'.format(results[2]))"
   ]
  },
  {
   "cell_type": "markdown",
   "id": "2985225a-6f7e-4d68-baf4-d8fa88641d7e",
   "metadata": {},
   "source": [
    "### Predict and print classification report"
   ]
  },
  {
   "cell_type": "code",
   "execution_count": null,
   "id": "18b52e25-9d06-4e81-b6c7-d317e158b35f",
   "metadata": {},
   "outputs": [],
   "source": [
    "predictions = (model.predict(test_images) > 0.5).astype(\"int32\")"
   ]
  },
  {
   "cell_type": "code",
   "execution_count": null,
   "id": "37a2dd7f-3232-4b86-84e0-4e4b7137660b",
   "metadata": {},
   "outputs": [],
   "source": [
    "print(\"test_classes: {}\".format(test_classes))\n",
    "print(\"train classes count: {}\".format(counter_test))\n",
    "# classification_report uses alphabetic ordering of the classes, so to match the encoded labels to the target_names, provide a sortest list of classes\n",
    "# https://stackoverflow.com/a/48495303\n",
    "sorted_test_classes = sorted(test_classes)\n",
    "print(classification_report(test_labels, predictions, target_names=sorted_test_classes))"
   ]
  },
  {
   "cell_type": "markdown",
   "id": "ca6429fd-bcde-476d-854f-1b4d8c9d983b",
   "metadata": {},
   "source": [
    "### Confusion matrix"
   ]
  },
  {
   "cell_type": "code",
   "execution_count": null,
   "id": "39948582-fc98-4154-b92b-a121378f7862",
   "metadata": {},
   "outputs": [],
   "source": [
    "matrix = confusion_matrix(test_labels.argmax(axis=1), predictions.argmax(axis=1))\n",
    "print(matrix)"
   ]
  },
  {
   "cell_type": "markdown",
   "id": "862c5f3f-2fb1-485c-8e94-d3b34ac067da",
   "metadata": {},
   "source": [
    "### Accuracy"
   ]
  },
  {
   "cell_type": "code",
   "execution_count": null,
   "id": "02e3ce6a-536b-4446-a135-5425c1cd0da9",
   "metadata": {},
   "outputs": [],
   "source": [
    "acc = accuracy_score(test_labels, predictions)\n",
    "print(acc)"
   ]
  },
  {
   "cell_type": "markdown",
   "id": "82fb1793-0145-4dd5-b055-183fc073ecc2",
   "metadata": {},
   "source": [
    "## Use a distinct dataset to assess trained model's performance\n",
    "* still camera trap images from same location(s), but subset was not used for training, validation, or testing\n",
    "* note: images are not pre-processed, and are simply loaded in and resized\n",
    "* TODO: use Australian camera trap images from different location(s) to assess performance"
   ]
  },
  {
   "cell_type": "code",
   "execution_count": null,
   "id": "2cdc3215-8d1e-4aa7-9157-c4dcec4376a5",
   "metadata": {},
   "outputs": [],
   "source": [
    "unlabelled_test_images = []\n",
    "folders_dataset = next(os.walk('data/unlabelled_test_data/20160929_September'))[1]\n",
    "folders_dataset = sorted(folders_dataset)\n",
    "print('folders_dataset: {}'.format(folders_dataset))\n",
    "for folder in folders_dataset:\n",
    "    unlabelled_test_images = [*unlabelled_test_images, *readInImages('unlabelled_test_data/20160929_September', folder, False)]\n",
    "\n",
    "displayImage(unlabelled_test_images[1])\n",
    "displayImage(unlabelled_test_images[10])\n",
    "displayImage(unlabelled_test_images[100])\n",
    "displayImage(unlabelled_test_images[1000])\n",
    "\n",
    "unlabelled_test_images = np.stack(unlabelled_test_images, axis = 0)"
   ]
  },
  {
   "cell_type": "markdown",
   "id": "a4af7615-c75f-4335-a783-5ddf6bc4e917",
   "metadata": {},
   "source": [
    "### Predict\n",
    "* TODO: resolve encoded classes to their labels"
   ]
  },
  {
   "cell_type": "code",
   "execution_count": null,
   "id": "5ea4e40d-4469-4646-ac48-7cc378881d58",
   "metadata": {},
   "outputs": [],
   "source": [
    "y_pred = (model.predict(unlabelled_test_images) > 0.5).astype(\"int32\")\n",
    "y_classes = y_pred.argmax(axis=-1)\n",
    "print('y_classes: {}'.format(y_classes))"
   ]
  },
  {
   "cell_type": "markdown",
   "id": "738305b2-92f1-41c1-a4f2-07171823ec10",
   "metadata": {},
   "source": [
    "## Save the model\n",
    "* use the current date/time so we can keep incrementation progress of the model as we re-run it"
   ]
  },
  {
   "cell_type": "code",
   "execution_count": null,
   "id": "14e4681e-b9b8-419c-9cd5-bfd3b0a1763f",
   "metadata": {},
   "outputs": [],
   "source": [
    "now = datetime.now()\n",
    "dt_string = now.strftime('%d-%m-%Y_%H:%M:%S')\n",
    "print(\"saving model as: 'ZFNet-{}.h5'.'\".format(dt_string))\n",
    "\n",
    "model.save('saved_models/ZFNet-{}.h5'.format(dt_string))"
   ]
  },
  {
   "cell_type": "markdown",
   "id": "006c0524-22ef-4ad4-8403-faec5dc9f5f4",
   "metadata": {},
   "source": [
    "## Free up the GPU's memory"
   ]
  },
  {
   "cell_type": "code",
   "execution_count": null,
   "id": "4b4c59ac-35fd-420c-ab71-2dc2c7c457ce",
   "metadata": {},
   "outputs": [],
   "source": [
    "cuda.select_device(0)\n",
    "cuda.close()"
   ]
  }
 ],
 "metadata": {
  "kernelspec": {
   "display_name": "Python 3 (ipykernel)",
   "language": "python",
   "name": "python3"
  },
  "language_info": {
   "codemirror_mode": {
    "name": "ipython",
    "version": 3
   },
   "file_extension": ".py",
   "mimetype": "text/x-python",
   "name": "python",
   "nbconvert_exporter": "python",
   "pygments_lexer": "ipython3",
   "version": "3.9.12"
  }
 },
 "nbformat": 4,
 "nbformat_minor": 5
}
