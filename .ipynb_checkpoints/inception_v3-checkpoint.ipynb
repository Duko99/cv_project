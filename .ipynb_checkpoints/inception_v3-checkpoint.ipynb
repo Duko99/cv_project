{
 "cells": [
  {
   "cell_type": "markdown",
   "id": "d16a4572-aa08-4961-ab76-746288173ce9",
   "metadata": {},
   "source": [
    "# Inception Model V3\n",
    "* source: https://keras.io/api/applications/#usage-examples-for-image-classification-models, https://keras.io/api/applications/inceptionv3/"
   ]
  },
  {
   "cell_type": "code",
   "execution_count": null,
   "id": "d6e6415f-a677-4cf9-8091-92b299ca65e0",
   "metadata": {},
   "outputs": [],
   "source": [
    "model_name = 'InceptionV3-pre-processing-hist-eq-dark-and-canny-non-empty-3'"
   ]
  },
  {
   "cell_type": "code",
   "execution_count": null,
   "id": "9aec3e85-b45c-4da8-add5-e3b0e420ac9b",
   "metadata": {},
   "outputs": [],
   "source": [
    "import matplotlib.pyplot as plt\n",
    "%matplotlib inline\n",
    "from tensorflow.keras.applications.inception_v3 import InceptionV3\n",
    "from tensorflow.keras.preprocessing import image\n",
    "from tensorflow.keras.models import Model\n",
    "from tensorflow.keras.layers import Dense, GlobalAveragePooling2D\n",
    "from numba import cuda  # https://stackoverflow.com/a/52354865/6476994\n",
    "from sklearn.metrics import classification_report\n",
    "from sklearn.metrics import confusion_matrix\n",
    "from sklearn.metrics import accuracy_score\n",
    "from datetime import datetime\n",
    "import keras"
   ]
  },
  {
   "cell_type": "code",
   "execution_count": null,
   "id": "b8fee7ca-7a74-4eee-8152-27bdb53c9d7b",
   "metadata": {},
   "outputs": [],
   "source": [
    "# allows all images to be displayed at once (else only displays the last call to plt.imshow())\n",
    "# https://stackoverflow.com/a/41210974\n",
    "def displayImage(image, caption = None, colour = None) -> None:\n",
    "    plt.figure()\n",
    "    if(colour != None):\n",
    "        plt.imshow(image, cmap=colour)\n",
    "    else:\n",
    "        plt.imshow(image)\n",
    "        \n",
    "    if(caption != None):\n",
    "        # display caption below picture (https://stackoverflow.com/a/51486361)\n",
    "        plt.figtext(0.5, 0.01, caption, wrap=True, horizontalalignment='center', fontsize=12)"
   ]
  },
  {
   "cell_type": "code",
   "execution_count": null,
   "id": "f0baac9c-29f8-4aa1-abce-90e56871b5d3",
   "metadata": {},
   "outputs": [],
   "source": [
    "# free up GPU if it didn't after the last run\n",
    "cuda.select_device(0)\n",
    "cuda.close()"
   ]
  },
  {
   "cell_type": "markdown",
   "id": "0ba2318c-0ae7-4a65-9098-3d632aea1a3c",
   "metadata": {},
   "source": [
    "## Read in dataset"
   ]
  },
  {
   "cell_type": "markdown",
   "id": "9d2c1dfe-bfec-4ccc-813f-292f88d6aabf",
   "metadata": {},
   "source": [
    "* first argument is the `using_batch_generator` flag\n",
    "* second argument is `do_preprocessing`, which will perform image manipulations for the purposes of enhancing training performance\n",
    "* all other arguments are the datasets - e.g., a folder ('20160724_July') with additional folders ('BB01', 'BB02', ..., 'BBXY'), each containing a set of images)"
   ]
  },
  {
   "cell_type": "code",
   "execution_count": null,
   "id": "8edacae1-3a47-417f-ba1d-2549e7017744",
   "metadata": {},
   "outputs": [],
   "source": [
    "%run readInDataset.py true true 20160724_July 20160829_August"
   ]
  },
  {
   "cell_type": "code",
   "execution_count": null,
   "id": "7a0d77d8-fefd-4205-b2ca-b33db39b0b29",
   "metadata": {},
   "outputs": [],
   "source": [
    "class CustomGenerator(keras.utils.Sequence):    \n",
    "    def __init__(self, images, labels, batch_size):\n",
    "        self.images = images\n",
    "        self.labels = labels\n",
    "        self.batch_size = batch_size\n",
    "    \n",
    "    def __len__(self):\n",
    "        return (np.ceil(len(self.images) / float(self.batch_size))).astype(np.int)\n",
    "\n",
    "    def __getitem__(self, idx):\n",
    "        batch_x = self.images[idx * self.batch_size : (idx+1) * self.batch_size]\n",
    "        batch_y = self.labels[idx * self.batch_size : (idx+1) * self.batch_size]\n",
    "        \n",
    "        return batch_x, np.array(batch_y)"
   ]
  },
  {
   "cell_type": "code",
   "execution_count": null,
   "id": "574696f4-3d9c-4274-ab5d-d148e54b5766",
   "metadata": {},
   "outputs": [],
   "source": [
    "batch_size = 128\n",
    "\n",
    "num_len_train = int(0.8 * len(training_images))\n",
    "\n",
    "ttraining_images = training_images[:num_len_train]\n",
    "ttraining_labels = training_labels[:num_len_train]\n",
    "\n",
    "valid_images = training_images[num_len_train:]\n",
    "valid_labels = training_labels[num_len_train:]\n",
    "\n",
    "training_images = ttraining_images\n",
    "training_labels = ttraining_labels\n",
    "\n",
    "# show a few samples\n",
    "displayImage(training_images[0])\n",
    "displayImage(training_images[10])\n",
    "displayImage(training_images[100])\n",
    "displayImage(training_images[1000])\n",
    "\n",
    "training_batch_generator = CustomGenerator(training_images, training_labels, batch_size)\n",
    "validation_batch_generator = CustomGenerator(valid_images, valid_labels, batch_size)"
   ]
  },
  {
   "cell_type": "markdown",
   "id": "e7dee7ff-fa89-4126-ae31-5b994c2e05eb",
   "metadata": {},
   "source": [
    "## Train the model"
   ]
  },
  {
   "cell_type": "code",
   "execution_count": null,
   "id": "879aa106-d8ea-4390-a8c2-22da3675c018",
   "metadata": {},
   "outputs": [],
   "source": [
    "# create the base pre-trained model\n",
    "base_model = InceptionV3(weights='imagenet', include_top=False)\n",
    "\n",
    "# add a global spatial average pooling layer\n",
    "x = base_model.output\n",
    "x = GlobalAveragePooling2D()(x)\n",
    "# let's add a fully-connected layer\n",
    "x = Dense(1024, activation='relu')(x)\n",
    "# and a logistic layer -- based on number of classes\n",
    "predictions = Dense(len(classes), activation='softmax')(x)\n",
    "\n",
    "# this is the model we will train\n",
    "model = Model(inputs=base_model.input, outputs=predictions)\n",
    "\n",
    "# first: train only the top layers (which were randomly initialized)\n",
    "# i.e. freeze all convolutional InceptionV3 layers\n",
    "for layer in base_model.layers:\n",
    "    layer.trainable = False\n",
    "\n",
    "# compile the model (should be done *after* setting layers to non-trainable)\n",
    "model.compile(optimizer='rmsprop', loss='categorical_crossentropy')\n",
    "\n",
    "# train the model on the new data for a few epochs\n",
    "# model.fit(training_images, training_labels, batch_size=128,\n",
    "#           validation_data=(valid_images, valid_labels),\n",
    "#           epochs = 10)\n",
    "model.fit(training_batch_generator,\n",
    "          validation_data=validation_batch_generator,\n",
    "          epochs=10)"
   ]
  },
  {
   "cell_type": "code",
   "execution_count": null,
   "id": "90e536a8-e664-4810-a571-9e9a6240cb72",
   "metadata": {},
   "outputs": [],
   "source": [
    "# at this point, the top layers are well trained and we can start fine-tuning\n",
    "# convolutional layers from inception V3. We will freeze the bottom N layers\n",
    "# and train the remaining top layers.\n",
    "\n",
    "# we chose to train the top 2 inception blocks, i.e. we will freeze\n",
    "# the first 249 layers and unfreeze the rest:\n",
    "for layer in model.layers[:249]:\n",
    "   layer.trainable = False\n",
    "for layer in model.layers[249:]:\n",
    "   layer.trainable = True\n",
    "\n",
    "# we need to recompile the model for these modifications to take effect\n",
    "# we use SGD with a low learning rate\n",
    "from tensorflow.keras.optimizers import SGD\n",
    "model.compile(optimizer=SGD(lr=0.0001, momentum=0.9), loss='categorical_crossentropy')\n",
    "\n",
    "# we train our model again (this time fine-tuning the top 2 inception blocks\n",
    "# alongside the top Dense layers\n",
    "# model.fit(training_images, training_labels, batch_size=128,\n",
    "#           validation_data=(valid_images, valid_labels),\n",
    "#           epochs = 90)\n",
    "model.fit(training_batch_generator,\n",
    "          validation_data=validation_batch_generator,\n",
    "          epochs=90)"
   ]
  },
  {
   "cell_type": "markdown",
   "id": "9eed7bf3-cc19-467b-9d72-91df493305e1",
   "metadata": {},
   "source": [
    "## Use test set to assess trained model's performance"
   ]
  },
  {
   "cell_type": "markdown",
   "id": "0bfabf20-6657-4fb4-8431-b039bcff64d3",
   "metadata": {},
   "source": [
    "### Evaluate"
   ]
  },
  {
   "cell_type": "code",
   "execution_count": null,
   "id": "311b5685-ec38-4b8d-acdc-003883eb7a58",
   "metadata": {},
   "outputs": [],
   "source": [
    "print('test_images shape: {}'.format(test_images.shape))\n",
    "print('test_labels shape: {}'.format(test_labels.shape))\n",
    "\n",
    "results = model.evaluate(test_images,test_labels)\n",
    "print('loss: {}'.format(results))"
   ]
  },
  {
   "cell_type": "markdown",
   "id": "1d948f8c-0c85-4ac2-b2d7-abb39b311d6d",
   "metadata": {},
   "source": [
    "### Predict and print classification report"
   ]
  },
  {
   "cell_type": "code",
   "execution_count": null,
   "id": "c127c566-7544-4fac-9bc0-77abee0e938a",
   "metadata": {},
   "outputs": [],
   "source": [
    "predictions = (model.predict(test_images) > 0.5).astype(\"int32\")"
   ]
  },
  {
   "cell_type": "code",
   "execution_count": null,
   "id": "b475bdef-d5ad-495a-a331-c6592ef6e545",
   "metadata": {},
   "outputs": [],
   "source": [
    "print(\"test_classes: {}\".format(test_classes))\n",
    "print(\"train classes count: {}\".format(counter_test))\n",
    "# classification_report uses alphabetic ordering of the classes, so to match the encoded labels to the target_names, provide a sortest list of classes\n",
    "# https://stackoverflow.com/a/48495303\n",
    "sorted_test_classes = sorted(test_classes)\n",
    "print(classification_report(test_labels, predictions, target_names=sorted_test_classes))"
   ]
  },
  {
   "cell_type": "markdown",
   "id": "5d3500d1-0f2a-4c75-87ef-c2c9e15062a5",
   "metadata": {},
   "source": [
    "### Confusion matrix"
   ]
  },
  {
   "cell_type": "code",
   "execution_count": null,
   "id": "7afe10b1-19b7-4879-b4f9-10ea4bc7cf25",
   "metadata": {},
   "outputs": [],
   "source": [
    "matrix = confusion_matrix(test_labels.argmax(axis=1), predictions.argmax(axis=1))\n",
    "print(matrix)"
   ]
  },
  {
   "cell_type": "markdown",
   "id": "2e0f6d96-21c3-4cb8-99ea-8cd99bb51495",
   "metadata": {},
   "source": [
    "### Accuracy"
   ]
  },
  {
   "cell_type": "code",
   "execution_count": null,
   "id": "6458f7df-cd35-4a19-9bc2-8c1bc41d0b4f",
   "metadata": {},
   "outputs": [],
   "source": [
    "acc = accuracy_score(test_labels, predictions)\n",
    "print(acc)"
   ]
  },
  {
   "cell_type": "markdown",
   "id": "21d4808a-8106-4392-a0e8-79a682d3a64e",
   "metadata": {},
   "source": [
    "## Save the model\n",
    "* use the current date/time so we can keep incrementation progress of the model as we re-run it"
   ]
  },
  {
   "cell_type": "code",
   "execution_count": null,
   "id": "bd1ad2c3-f2b3-4b0e-97c9-3c36bb22675e",
   "metadata": {},
   "outputs": [],
   "source": [
    "if model_name == None:\n",
    "    now = datetime.now()\n",
    "    dt_string = now.strftime('%d-%m-%Y_%H:%M:%S')\n",
    "    print(\"saving model as: 'InceptionV3-{}.h5'.'\".format(dt_string))\n",
    "\n",
    "    model.save('saved_models/InceptionV3-{}.h5'.format(dt_string))\n",
    "else:\n",
    "    existing_models = next(os.walk('saved_models/final'))[2]\n",
    "    print('existing_models: {}'.format(existing_models))\n",
    "    if model_name in existing_models:\n",
    "        raise Exception('Tried to save a model that already exists. Aborting.')\n",
    "    else:\n",
    "        print(\"saving model as: '{}.h5'.'\".format(model_name))\n",
    "        model.save('saved_models/final/{}.h5'.format(model_name))"
   ]
  },
  {
   "cell_type": "markdown",
   "id": "2d66e1b1-fd31-43a5-9c99-2901b37ec94f",
   "metadata": {},
   "source": [
    "## Free up the GPU's memory"
   ]
  },
  {
   "cell_type": "code",
   "execution_count": null,
   "id": "b2b77ff6-ecfe-4018-9d0e-b257636516ef",
   "metadata": {},
   "outputs": [],
   "source": [
    "cuda.select_device(0)\n",
    "cuda.close()"
   ]
  },
  {
   "cell_type": "code",
   "execution_count": null,
   "id": "125cf1de-e87d-4cbf-ad33-f5aa4c012dd6",
   "metadata": {},
   "outputs": [],
   "source": []
  }
 ],
 "metadata": {
  "kernelspec": {
   "display_name": "Python 3 (ipykernel)",
   "language": "python",
   "name": "python3"
  },
  "language_info": {
   "codemirror_mode": {
    "name": "ipython",
    "version": 3
   },
   "file_extension": ".py",
   "mimetype": "text/x-python",
   "name": "python",
   "nbconvert_exporter": "python",
   "pygments_lexer": "ipython3",
   "version": "3.9.12"
  }
 },
 "nbformat": 4,
 "nbformat_minor": 5
}
