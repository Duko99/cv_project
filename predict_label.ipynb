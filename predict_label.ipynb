{
 "cells": [
  {
   "cell_type": "code",
   "execution_count": null,
   "id": "a70e29e0-ede0-4f67-839b-54a3fbe29499",
   "metadata": {},
   "outputs": [],
   "source": [
    "import matplotlib.pyplot as plt\n",
    "%matplotlib inline\n",
    "from tensorflow import keras\n",
    "import os\n",
    "import cv2\n",
    "import numpy as np"
   ]
  },
  {
   "cell_type": "code",
   "execution_count": null,
   "id": "882a538e-6b6e-4c57-a524-bff867f2d27a",
   "metadata": {},
   "outputs": [],
   "source": [
    "# allows all images to be displayed at once (else only displays the last call to plt.imshow())\n",
    "# https://stackoverflow.com/a/41210974\n",
    "def displayImage(image, caption = None, colour = None) -> None:\n",
    "    plt.figure()\n",
    "    if(colour != None):\n",
    "        plt.imshow(image, cmap=colour)\n",
    "    else:\n",
    "        plt.imshow(image)\n",
    "        \n",
    "    if(caption != None):\n",
    "        # display caption below picture (https://stackoverflow.com/a/51486361)\n",
    "        plt.figtext(0.5, 0.01, caption, wrap=True, horizontalalignment='center', fontsize=12)"
   ]
  },
  {
   "cell_type": "markdown",
   "id": "756f1134-32f4-477c-a404-cb3a4c9e81bf",
   "metadata": {},
   "source": [
    "## Predict on unlabelled data\n",
    "* using similar data (from same camera-trap dataset) that is unlabelled but semi-distinct from the train/test data\n",
    "* TODO: use camera trap images from Internet"
   ]
  },
  {
   "cell_type": "markdown",
   "id": "43392132-9cde-4b9a-8970-3b68af634e11",
   "metadata": {},
   "source": [
    "### Load the model"
   ]
  },
  {
   "cell_type": "code",
   "execution_count": null,
   "id": "0fc3360a-55f0-4926-8bfb-eef2eb38ccde",
   "metadata": {},
   "outputs": [],
   "source": [
    "model = keras.models.load_model('saved_models/ZFNet-Gaussian-Blur-and-Canny-no-empy-plus-hist-eq-dark-images.h5')"
   ]
  },
  {
   "cell_type": "markdown",
   "id": "aac1cad5-410c-4c67-9f10-368989b51c56",
   "metadata": {},
   "source": [
    "### Load up test images (no pre-processing)"
   ]
  },
  {
   "cell_type": "code",
   "execution_count": null,
   "id": "23d828f0-bb25-4f34-acd9-eccfe2f27c50",
   "metadata": {},
   "outputs": [],
   "source": [
    "img_fns = next(os.walk('data/unlabelled_test_data'), (None, None, []))[2]  # [] if no file\n",
    "img_fns.sort()\n",
    "print('img_fns: {}'.format(img_fns))\n",
    "\n",
    "unlabelled_test_images = []\n",
    "desired_size = 224\n",
    "for fn in img_fns:\n",
    "    im = cv2.imread('data/unlabelled_test_data/{}'.format(fn))\n",
    "    \n",
    "    # resize the image\n",
    "    old_size = im.shape[:2]\n",
    "    ratio = float(desired_size)/max(old_size)\n",
    "    new_size = tuple([int(x*ratio) for x in old_size])\n",
    "    im = cv2.resize(im, (new_size[1], new_size[0]))\n",
    "\n",
    "    delta_w = desired_size - new_size[1]\n",
    "    delta_h = desired_size - new_size[0]\n",
    "    top, bottom = delta_h//2, delta_h-(delta_h//2)\n",
    "    left, right = delta_w//2, delta_w-(delta_w//2)\n",
    "\n",
    "    color = [0, 0, 0]\n",
    "    new_im = cv2.copyMakeBorder(im, top, bottom, left, right, cv2.BORDER_CONSTANT, value=color)\n",
    "    \n",
    "    unlabelled_test_images.append(np.asarray(new_im))\n",
    "    \n",
    "unlabelled_test_images = np.stack(unlabelled_test_images, axis = 0)\n",
    "print('unlabelled_test_images shape: {}'.format(unlabelled_test_images.shape))"
   ]
  },
  {
   "cell_type": "code",
   "execution_count": null,
   "id": "942bc309-7cab-4eb7-8b1b-c38023114a09",
   "metadata": {},
   "outputs": [],
   "source": [
    "# y_prob = model.predict(unlabelled_test_images)\n",
    "y_pred = (model.predict(unlabelled_test_images) > 0.5).astype(\"int32\")\n",
    "print('y_pred:\\n{}'.format(y_pred))\n",
    "y_classes = y_pred.argmax(axis=-1)\n",
    "print('y_classes: {}'.format(y_classes))"
   ]
  },
  {
   "cell_type": "code",
   "execution_count": null,
   "id": "ca12c692-9cc9-4e67-a922-f62c109895e2",
   "metadata": {},
   "outputs": [],
   "source": [
    "# sorted_test_classes = sorted(test_classes)"
   ]
  },
  {
   "cell_type": "code",
   "execution_count": null,
   "id": "ea1001da-cf50-4001-9dbd-8fa8bb649a58",
   "metadata": {},
   "outputs": [],
   "source": [
    "# https://stackoverflow.com/a/57516809\n",
    "# test_datagen = tf.keras.preprocessing.image.ImageDataGenerator(rescale=1/255.)\n",
    "# test_generator = test_datagen('data',\n",
    "#                               # only read images from `unlabelled_test_data` directory\n",
    "#                               classes=['unlabelled_test_data'],\n",
    "#                               # don't generate labels\n",
    "#                               class_mode=None,\n",
    "#                               # don't shuffle\n",
    "#                               shuffle=False,\n",
    "#                               # use same size as in training\n",
    "#                               target_size=(240, 240))\n",
    "# preds = model.predict_generator(test_generator)\n",
    "\n",
    "# paths = next(os.walk('data/unlabelled_test_data'), (None, None, []))[2]  # [] if no file\n",
    "# paths.sort()\n",
    "# print('paths: {}'.format(paths))\n",
    "# a_img_rand = np.random.randint(0,len(paths))\n",
    "# img = keras.utils.load_img('data/unlabelled_test_data/{}'.format(paths[a_img_rand]))\n",
    "# displayImage(img, 'Random loaded image')\n",
    "# img = keras.utils.img_to_array(img)\n",
    "# classes = ['Empty photo', 'Kangaroo', 'Human Presense/Deployment', 'Emu', 'Cat', 'Fox', 'Bird', 'Rabbit', 'Dog', 'Other']\n",
    "# print('classes: {}'.format(classes))\n",
    "# class_list = list(classes)\n",
    "# print('class_list: {}'.format(class_list))\n",
    "# pred_i = y_prob[a_img_rand]\n",
    "# print('pred_i: {}'.format(pred_i))\n",
    "# pred = class_list[pred_i]\n",
    "# print('pred: {}'.format(pred))\n",
    "# displayImage(img, 'Predicted class: '.format(pred))"
   ]
  },
  {
   "cell_type": "code",
   "execution_count": null,
   "id": "fbf74516-c34c-45ac-bcbd-c74b55e7b02f",
   "metadata": {},
   "outputs": [],
   "source": []
  }
 ],
 "metadata": {
  "kernelspec": {
   "display_name": "Python 3 (ipykernel)",
   "language": "python",
   "name": "python3"
  },
  "language_info": {
   "codemirror_mode": {
    "name": "ipython",
    "version": 3
   },
   "file_extension": ".py",
   "mimetype": "text/x-python",
   "name": "python",
   "nbconvert_exporter": "python",
   "pygments_lexer": "ipython3",
   "version": "3.9.12"
  }
 },
 "nbformat": 4,
 "nbformat_minor": 5
}
