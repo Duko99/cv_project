{
 "cells": [
  {
   "cell_type": "code",
   "execution_count": 1,
   "id": "9ad62cb3-b86d-4a0a-8492-ef09608a4c8a",
   "metadata": {},
   "outputs": [],
   "source": [
    "import matplotlib.pyplot as plt\n",
    "%matplotlib inline"
   ]
  },
  {
   "cell_type": "markdown",
   "id": "486d3892-4189-4e6a-bfee-0309e96d0b39",
   "metadata": {},
   "source": [
    "# ZFNet\n",
    "\n",
    "Source: https://towardsdatascience.com/zfnet-an-explanation-of-paper-with-code-f1bd6752121d"
   ]
  },
  {
   "cell_type": "code",
   "execution_count": 2,
   "id": "bfbb46df-237c-4f68-b1af-5ee75f6b69b9",
   "metadata": {},
   "outputs": [],
   "source": [
    "import tensorflow as tf\n",
    "\n",
    "mnist = tf.keras.datasets.mnist\n",
    "\n",
    "(training_images, training_labels), (test_images, test_labels) = mnist.load_data()"
   ]
  },
  {
   "cell_type": "code",
   "execution_count": 3,
   "id": "61d7ea0c-380c-4a0a-9855-552b1ff89caa",
   "metadata": {},
   "outputs": [
    {
     "data": {
      "text/plain": [
       "<matplotlib.image.AxesImage at 0x7fbf3de70a30>"
      ]
     },
     "execution_count": 3,
     "metadata": {},
     "output_type": "execute_result"
    },
    {
     "data": {
      "image/png": "[encoded data removed]",
      "text/plain": [
       "<Figure size 432x288 with 1 Axes>"
      ]
     },
     "metadata": {
      "needs_background": "light"
     },
     "output_type": "display_data"
    }
   ],
   "source": [
    "plt.imshow(training_images[1],cmap='gray')"
   ]
  },
  {
   "cell_type": "markdown",
   "id": "da469ee2-ad90-402b-9b57-55a1388138e3",
   "metadata": {},
   "source": [
    "## Train the model"
   ]
  },
  {
   "cell_type": "code",
   "execution_count": 4,
   "id": "6d882d77-9109-494a-8c37-7ee3518adf8d",
   "metadata": {},
   "outputs": [
    {
     "name": "stderr",
     "output_type": "stream",
     "text": [
      "2022-05-17 10:44:45.307511: I tensorflow/stream_executor/cuda/cuda_gpu_executor.cc:936] successful NUMA node read from SysFS had negative value (-1), but there must be at least one NUMA node, so returning NUMA node zero\n",
      "2022-05-17 10:44:45.336179: I tensorflow/stream_executor/cuda/cuda_gpu_executor.cc:936] successful NUMA node read from SysFS had negative value (-1), but there must be at least one NUMA node, so returning NUMA node zero\n",
      "2022-05-17 10:44:45.336351: I tensorflow/stream_executor/cuda/cuda_gpu_executor.cc:936] successful NUMA node read from SysFS had negative value (-1), but there must be at least one NUMA node, so returning NUMA node zero\n",
      "2022-05-17 10:44:45.336827: I tensorflow/core/platform/cpu_feature_guard.cc:151] This TensorFlow binary is optimized with oneAPI Deep Neural Network Library (oneDNN) to use the following CPU instructions in performance-critical operations:  AVX2 FMA\n",
      "To enable them in other operations, rebuild TensorFlow with the appropriate compiler flags.\n",
      "2022-05-17 10:44:45.337284: I tensorflow/stream_executor/cuda/cuda_gpu_executor.cc:936] successful NUMA node read from SysFS had negative value (-1), but there must be at least one NUMA node, so returning NUMA node zero\n",
      "2022-05-17 10:44:45.337432: I tensorflow/stream_executor/cuda/cuda_gpu_executor.cc:936] successful NUMA node read from SysFS had negative value (-1), but there must be at least one NUMA node, so returning NUMA node zero\n",
      "2022-05-17 10:44:45.337558: I tensorflow/stream_executor/cuda/cuda_gpu_executor.cc:936] successful NUMA node read from SysFS had negative value (-1), but there must be at least one NUMA node, so returning NUMA node zero\n",
      "2022-05-17 10:44:45.664178: I tensorflow/stream_executor/cuda/cuda_gpu_executor.cc:936] successful NUMA node read from SysFS had negative value (-1), but there must be at least one NUMA node, so returning NUMA node zero\n",
      "2022-05-17 10:44:45.664332: I tensorflow/stream_executor/cuda/cuda_gpu_executor.cc:936] successful NUMA node read from SysFS had negative value (-1), but there must be at least one NUMA node, so returning NUMA node zero\n",
      "2022-05-17 10:44:45.664453: I tensorflow/stream_executor/cuda/cuda_gpu_executor.cc:936] successful NUMA node read from SysFS had negative value (-1), but there must be at least one NUMA node, so returning NUMA node zero\n",
      "2022-05-17 10:44:45.664562: I tensorflow/core/common_runtime/gpu/gpu_device.cc:1525] Created device /job:localhost/replica:0/task:0/device:GPU:0 with 5614 MB memory:  -> device: 0, name: NVIDIA GeForce RTX 2070, pci bus id: 0000:2b:00.0, compute capability: 7.5\n",
      "/home/luke/.local/lib/python3.9/site-packages/keras/optimizer_v2/gradient_descent.py:102: UserWarning: The `lr` argument is deprecated, use `learning_rate` instead.\n",
      "  super(SGD, self).__init__(name, **kwargs)\n"
     ]
    },
    {
     "name": "stdout",
     "output_type": "stream",
     "text": [
      "Epoch 1/90\n"
     ]
    },
    {
     "name": "stderr",
     "output_type": "stream",
     "text": [
      "2022-05-17 10:44:48.298951: I tensorflow/stream_executor/cuda/cuda_dnn.cc:368] Loaded cuDNN version 8400\n",
      "2022-05-17 10:44:48.695577: I tensorflow/core/platform/default/subprocess.cc:304] Start cannot spawn child process: No such file or directory\n"
     ]
    },
    {
     "name": "stdout",
     "output_type": "stream",
     "text": [
      "7/7 [==============================] - 5s 325ms/step - loss: 2.6118 - accuracy: 0.1612 - top_k_categorical_accuracy: 0.5763 - val_loss: 2.1427 - val_accuracy: 0.2200 - val_top_k_categorical_accuracy: 0.7400 - lr: 0.0100\n",
      "Epoch 2/90\n",
      "7/7 [==============================] - 1s 160ms/step - loss: 2.0019 - accuracy: 0.3275 - top_k_categorical_accuracy: 0.7575 - val_loss: 2.3730 - val_accuracy: 0.2550 - val_top_k_categorical_accuracy: 0.8050 - lr: 0.0100\n",
      "Epoch 3/90\n",
      "7/7 [==============================] - 1s 162ms/step - loss: 2.2416 - accuracy: 0.3388 - top_k_categorical_accuracy: 0.8000 - val_loss: 1.7700 - val_accuracy: 0.3650 - val_top_k_categorical_accuracy: 0.8700 - lr: 1.0000e-03\n",
      "Epoch 4/90\n",
      "7/7 [==============================] - 1s 161ms/step - loss: 1.3360 - accuracy: 0.5800 - top_k_categorical_accuracy: 0.9150 - val_loss: 1.3943 - val_accuracy: 0.5500 - val_top_k_categorical_accuracy: 0.9050 - lr: 1.0000e-03\n",
      "Epoch 5/90\n",
      "7/7 [==============================] - 1s 160ms/step - loss: 1.0193 - accuracy: 0.6850 - top_k_categorical_accuracy: 0.9413 - val_loss: 1.1495 - val_accuracy: 0.6750 - val_top_k_categorical_accuracy: 0.9350 - lr: 1.0000e-03\n",
      "Epoch 6/90\n",
      "7/7 [==============================] - 1s 164ms/step - loss: 0.8206 - accuracy: 0.7663 - top_k_categorical_accuracy: 0.9638 - val_loss: 1.0181 - val_accuracy: 0.7350 - val_top_k_categorical_accuracy: 0.9650 - lr: 1.0000e-03\n",
      "Epoch 7/90\n",
      "7/7 [==============================] - 1s 163ms/step - loss: 0.7092 - accuracy: 0.7950 - top_k_categorical_accuracy: 0.9725 - val_loss: 0.9069 - val_accuracy: 0.7400 - val_top_k_categorical_accuracy: 0.9650 - lr: 1.0000e-03\n",
      "Epoch 8/90\n",
      "7/7 [==============================] - 1s 161ms/step - loss: 0.5868 - accuracy: 0.8275 - top_k_categorical_accuracy: 0.9750 - val_loss: 0.7918 - val_accuracy: 0.7750 - val_top_k_categorical_accuracy: 0.9750 - lr: 1.0000e-03\n",
      "Epoch 9/90\n",
      "7/7 [==============================] - 1s 162ms/step - loss: 0.5069 - accuracy: 0.8587 - top_k_categorical_accuracy: 0.9875 - val_loss: 0.6957 - val_accuracy: 0.7950 - val_top_k_categorical_accuracy: 0.9750 - lr: 1.0000e-03\n",
      "Epoch 10/90\n",
      "7/7 [==============================] - 1s 162ms/step - loss: 0.4523 - accuracy: 0.8737 - top_k_categorical_accuracy: 0.9850 - val_loss: 0.6656 - val_accuracy: 0.8100 - val_top_k_categorical_accuracy: 0.9750 - lr: 1.0000e-03\n",
      "Epoch 11/90\n",
      "7/7 [==============================] - 1s 162ms/step - loss: 0.3931 - accuracy: 0.8875 - top_k_categorical_accuracy: 0.9912 - val_loss: 0.6077 - val_accuracy: 0.8400 - val_top_k_categorical_accuracy: 0.9850 - lr: 1.0000e-03\n",
      "Epoch 12/90\n",
      "7/7 [==============================] - 1s 161ms/step - loss: 0.3512 - accuracy: 0.9000 - top_k_categorical_accuracy: 0.9912 - val_loss: 0.6743 - val_accuracy: 0.8200 - val_top_k_categorical_accuracy: 0.9800 - lr: 1.0000e-03\n",
      "Epoch 13/90\n",
      "7/7 [==============================] - 1s 163ms/step - loss: 0.5020 - accuracy: 0.8263 - top_k_categorical_accuracy: 0.9900 - val_loss: 0.8233 - val_accuracy: 0.7850 - val_top_k_categorical_accuracy: 0.9800 - lr: 1.0000e-04\n",
      "Epoch 14/90\n",
      "7/7 [==============================] - 1s 162ms/step - loss: 0.4085 - accuracy: 0.8675 - top_k_categorical_accuracy: 0.9912 - val_loss: 0.7000 - val_accuracy: 0.7850 - val_top_k_categorical_accuracy: 0.9850 - lr: 1.0000e-05\n",
      "Epoch 15/90\n",
      "7/7 [==============================] - 1s 162ms/step - loss: 0.3702 - accuracy: 0.8888 - top_k_categorical_accuracy: 0.9925 - val_loss: 0.6915 - val_accuracy: 0.7900 - val_top_k_categorical_accuracy: 0.9900 - lr: 1.0000e-05\n",
      "Epoch 16/90\n",
      "7/7 [==============================] - 1s 162ms/step - loss: 0.3765 - accuracy: 0.8875 - top_k_categorical_accuracy: 0.9900 - val_loss: 0.6768 - val_accuracy: 0.8000 - val_top_k_categorical_accuracy: 0.9900 - lr: 1.0000e-05\n",
      "Epoch 17/90\n",
      "7/7 [==============================] - 1s 161ms/step - loss: 0.3667 - accuracy: 0.8900 - top_k_categorical_accuracy: 0.9900 - val_loss: 0.6522 - val_accuracy: 0.8100 - val_top_k_categorical_accuracy: 0.9900 - lr: 1.0000e-05\n",
      "Epoch 18/90\n",
      "7/7 [==============================] - 1s 163ms/step - loss: 0.3472 - accuracy: 0.8963 - top_k_categorical_accuracy: 0.9925 - val_loss: 0.6276 - val_accuracy: 0.8150 - val_top_k_categorical_accuracy: 0.9900 - lr: 1.0000e-05\n",
      "Epoch 19/90\n",
      "7/7 [==============================] - 1s 162ms/step - loss: 0.3284 - accuracy: 0.9038 - top_k_categorical_accuracy: 0.9912 - val_loss: 0.6071 - val_accuracy: 0.8200 - val_top_k_categorical_accuracy: 0.9900 - lr: 1.0000e-05\n",
      "Epoch 20/90\n",
      "7/7 [==============================] - 1s 161ms/step - loss: 0.3143 - accuracy: 0.9087 - top_k_categorical_accuracy: 0.9912 - val_loss: 0.5932 - val_accuracy: 0.8300 - val_top_k_categorical_accuracy: 0.9900 - lr: 1.0000e-05\n",
      "Epoch 21/90\n",
      "7/7 [==============================] - 1s 162ms/step - loss: 0.3046 - accuracy: 0.9225 - top_k_categorical_accuracy: 0.9937 - val_loss: 0.5835 - val_accuracy: 0.8300 - val_top_k_categorical_accuracy: 0.9900 - lr: 1.0000e-05\n",
      "Epoch 22/90\n",
      "7/7 [==============================] - 1s 165ms/step - loss: 0.2986 - accuracy: 0.9250 - top_k_categorical_accuracy: 0.9937 - val_loss: 0.5771 - val_accuracy: 0.8350 - val_top_k_categorical_accuracy: 0.9900 - lr: 1.0000e-05\n",
      "Epoch 23/90\n",
      "7/7 [==============================] - 1s 161ms/step - loss: 0.2928 - accuracy: 0.9212 - top_k_categorical_accuracy: 0.9937 - val_loss: 0.5725 - val_accuracy: 0.8350 - val_top_k_categorical_accuracy: 0.9900 - lr: 1.0000e-05\n",
      "Epoch 24/90\n",
      "7/7 [==============================] - 1s 162ms/step - loss: 0.2887 - accuracy: 0.9212 - top_k_categorical_accuracy: 0.9937 - val_loss: 0.5683 - val_accuracy: 0.8450 - val_top_k_categorical_accuracy: 0.9900 - lr: 1.0000e-05\n",
      "Epoch 25/90\n",
      "7/7 [==============================] - 1s 160ms/step - loss: 0.2856 - accuracy: 0.9225 - top_k_categorical_accuracy: 0.9937 - val_loss: 0.5642 - val_accuracy: 0.8450 - val_top_k_categorical_accuracy: 0.9900 - lr: 1.0000e-05\n",
      "Epoch 26/90\n",
      "7/7 [==============================] - 1s 161ms/step - loss: 0.2823 - accuracy: 0.9237 - top_k_categorical_accuracy: 0.9937 - val_loss: 0.5603 - val_accuracy: 0.8450 - val_top_k_categorical_accuracy: 0.9900 - lr: 1.0000e-05\n",
      "Epoch 27/90\n",
      "7/7 [==============================] - 1s 163ms/step - loss: 0.2798 - accuracy: 0.9225 - top_k_categorical_accuracy: 0.9937 - val_loss: 0.5573 - val_accuracy: 0.8450 - val_top_k_categorical_accuracy: 0.9900 - lr: 1.0000e-05\n",
      "Epoch 28/90\n",
      "7/7 [==============================] - 1s 165ms/step - loss: 0.2774 - accuracy: 0.9212 - top_k_categorical_accuracy: 0.9937 - val_loss: 0.5551 - val_accuracy: 0.8450 - val_top_k_categorical_accuracy: 0.9900 - lr: 1.0000e-05\n",
      "Epoch 29/90\n",
      "7/7 [==============================] - 1s 159ms/step - loss: 0.2755 - accuracy: 0.9225 - top_k_categorical_accuracy: 0.9937 - val_loss: 0.5536 - val_accuracy: 0.8450 - val_top_k_categorical_accuracy: 0.9900 - lr: 1.0000e-05\n",
      "Epoch 30/90\n",
      "7/7 [==============================] - 1s 159ms/step - loss: 0.2738 - accuracy: 0.9237 - top_k_categorical_accuracy: 0.9937 - val_loss: 0.5524 - val_accuracy: 0.8450 - val_top_k_categorical_accuracy: 0.9900 - lr: 1.0000e-05\n",
      "Epoch 31/90\n",
      "7/7 [==============================] - 1s 160ms/step - loss: 0.2721 - accuracy: 0.9262 - top_k_categorical_accuracy: 0.9937 - val_loss: 0.5512 - val_accuracy: 0.8450 - val_top_k_categorical_accuracy: 0.9900 - lr: 1.0000e-05\n",
      "Epoch 32/90\n",
      "7/7 [==============================] - 1s 168ms/step - loss: 0.2708 - accuracy: 0.9225 - top_k_categorical_accuracy: 0.9937 - val_loss: 0.5505 - val_accuracy: 0.8450 - val_top_k_categorical_accuracy: 0.9900 - lr: 1.0000e-05\n",
      "Epoch 33/90\n",
      "7/7 [==============================] - 1s 166ms/step - loss: 0.2694 - accuracy: 0.9237 - top_k_categorical_accuracy: 0.9937 - val_loss: 0.5492 - val_accuracy: 0.8450 - val_top_k_categorical_accuracy: 0.9900 - lr: 1.0000e-05\n",
      "Epoch 34/90\n",
      "7/7 [==============================] - 1s 164ms/step - loss: 0.2683 - accuracy: 0.9225 - top_k_categorical_accuracy: 0.9937 - val_loss: 0.5479 - val_accuracy: 0.8450 - val_top_k_categorical_accuracy: 0.9900 - lr: 1.0000e-05\n",
      "Epoch 35/90\n",
      "7/7 [==============================] - 1s 167ms/step - loss: 0.2673 - accuracy: 0.9250 - top_k_categorical_accuracy: 0.9937 - val_loss: 0.5464 - val_accuracy: 0.8500 - val_top_k_categorical_accuracy: 0.9900 - lr: 1.0000e-05\n",
      "Epoch 36/90\n",
      "7/7 [==============================] - 1s 159ms/step - loss: 0.2661 - accuracy: 0.9262 - top_k_categorical_accuracy: 0.9937 - val_loss: 0.5452 - val_accuracy: 0.8550 - val_top_k_categorical_accuracy: 0.9900 - lr: 1.0000e-05\n",
      "Epoch 37/90\n",
      "7/7 [==============================] - 1s 159ms/step - loss: 0.2653 - accuracy: 0.9262 - top_k_categorical_accuracy: 0.9937 - val_loss: 0.5435 - val_accuracy: 0.8650 - val_top_k_categorical_accuracy: 0.9900 - lr: 1.0000e-05\n",
      "Epoch 38/90\n",
      "7/7 [==============================] - 1s 162ms/step - loss: 0.2643 - accuracy: 0.9262 - top_k_categorical_accuracy: 0.9937 - val_loss: 0.5422 - val_accuracy: 0.8650 - val_top_k_categorical_accuracy: 0.9900 - lr: 1.0000e-05\n",
      "Epoch 39/90\n",
      "7/7 [==============================] - 1s 162ms/step - loss: 0.2634 - accuracy: 0.9275 - top_k_categorical_accuracy: 0.9937 - val_loss: 0.5412 - val_accuracy: 0.8650 - val_top_k_categorical_accuracy: 0.9900 - lr: 1.0000e-05\n",
      "Epoch 40/90\n",
      "7/7 [==============================] - 1s 160ms/step - loss: 0.2627 - accuracy: 0.9262 - top_k_categorical_accuracy: 0.9937 - val_loss: 0.5402 - val_accuracy: 0.8650 - val_top_k_categorical_accuracy: 0.9900 - lr: 1.0000e-05\n",
      "Epoch 41/90\n",
      "7/7 [==============================] - 1s 161ms/step - loss: 0.2620 - accuracy: 0.9262 - top_k_categorical_accuracy: 0.9937 - val_loss: 0.5398 - val_accuracy: 0.8650 - val_top_k_categorical_accuracy: 0.9900 - lr: 1.0000e-05\n",
      "Epoch 42/90\n",
      "7/7 [==============================] - 1s 160ms/step - loss: 0.2613 - accuracy: 0.9275 - top_k_categorical_accuracy: 0.9937 - val_loss: 0.5392 - val_accuracy: 0.8650 - val_top_k_categorical_accuracy: 0.9900 - lr: 1.0000e-05\n",
      "Epoch 43/90\n",
      "7/7 [==============================] - 1s 160ms/step - loss: 0.2607 - accuracy: 0.9287 - top_k_categorical_accuracy: 0.9937 - val_loss: 0.5389 - val_accuracy: 0.8650 - val_top_k_categorical_accuracy: 0.9900 - lr: 1.0000e-05\n",
      "Epoch 44/90\n",
      "7/7 [==============================] - 1s 162ms/step - loss: 0.2602 - accuracy: 0.9287 - top_k_categorical_accuracy: 0.9937 - val_loss: 0.5389 - val_accuracy: 0.8650 - val_top_k_categorical_accuracy: 0.9900 - lr: 1.0000e-05\n",
      "Epoch 45/90\n",
      "7/7 [==============================] - 1s 160ms/step - loss: 0.2597 - accuracy: 0.9287 - top_k_categorical_accuracy: 0.9937 - val_loss: 0.5383 - val_accuracy: 0.8650 - val_top_k_categorical_accuracy: 0.9900 - lr: 1.0000e-05\n",
      "Epoch 46/90\n",
      "7/7 [==============================] - 1s 160ms/step - loss: 0.2593 - accuracy: 0.9287 - top_k_categorical_accuracy: 0.9937 - val_loss: 0.5368 - val_accuracy: 0.8650 - val_top_k_categorical_accuracy: 0.9900 - lr: 1.0000e-05\n",
      "Epoch 47/90\n",
      "7/7 [==============================] - 1s 161ms/step - loss: 0.2587 - accuracy: 0.9300 - top_k_categorical_accuracy: 0.9937 - val_loss: 0.5358 - val_accuracy: 0.8750 - val_top_k_categorical_accuracy: 0.9900 - lr: 1.0000e-05\n",
      "Epoch 48/90\n",
      "7/7 [==============================] - 1s 160ms/step - loss: 0.2582 - accuracy: 0.9300 - top_k_categorical_accuracy: 0.9937 - val_loss: 0.5353 - val_accuracy: 0.8750 - val_top_k_categorical_accuracy: 0.9900 - lr: 1.0000e-05\n",
      "Epoch 49/90\n",
      "7/7 [==============================] - 1s 162ms/step - loss: 0.2577 - accuracy: 0.9312 - top_k_categorical_accuracy: 0.9937 - val_loss: 0.5350 - val_accuracy: 0.8750 - val_top_k_categorical_accuracy: 0.9900 - lr: 1.0000e-05\n",
      "Epoch 50/90\n",
      "7/7 [==============================] - 1s 160ms/step - loss: 0.2573 - accuracy: 0.9312 - top_k_categorical_accuracy: 0.9937 - val_loss: 0.5348 - val_accuracy: 0.8750 - val_top_k_categorical_accuracy: 0.9900 - lr: 1.0000e-05\n",
      "Epoch 51/90\n",
      "7/7 [==============================] - 1s 160ms/step - loss: 0.2570 - accuracy: 0.9325 - top_k_categorical_accuracy: 0.9937 - val_loss: 0.5345 - val_accuracy: 0.8750 - val_top_k_categorical_accuracy: 0.9900 - lr: 1.0000e-05\n",
      "Epoch 52/90\n",
      "7/7 [==============================] - 1s 160ms/step - loss: 0.2565 - accuracy: 0.9325 - top_k_categorical_accuracy: 0.9937 - val_loss: 0.5329 - val_accuracy: 0.8750 - val_top_k_categorical_accuracy: 0.9900 - lr: 1.0000e-05\n",
      "Epoch 53/90\n",
      "7/7 [==============================] - 1s 162ms/step - loss: 0.2561 - accuracy: 0.9337 - top_k_categorical_accuracy: 0.9937 - val_loss: 0.5315 - val_accuracy: 0.8750 - val_top_k_categorical_accuracy: 0.9900 - lr: 1.0000e-05\n",
      "Epoch 54/90\n",
      "7/7 [==============================] - 1s 162ms/step - loss: 0.2556 - accuracy: 0.9350 - top_k_categorical_accuracy: 0.9937 - val_loss: 0.5305 - val_accuracy: 0.8750 - val_top_k_categorical_accuracy: 0.9900 - lr: 1.0000e-05\n",
      "Epoch 55/90\n",
      "7/7 [==============================] - 1s 159ms/step - loss: 0.2553 - accuracy: 0.9337 - top_k_categorical_accuracy: 0.9937 - val_loss: 0.5304 - val_accuracy: 0.8750 - val_top_k_categorical_accuracy: 0.9900 - lr: 1.0000e-05\n",
      "Epoch 56/90\n",
      "7/7 [==============================] - 1s 161ms/step - loss: 0.2549 - accuracy: 0.9350 - top_k_categorical_accuracy: 0.9937 - val_loss: 0.5306 - val_accuracy: 0.8750 - val_top_k_categorical_accuracy: 0.9900 - lr: 1.0000e-05\n",
      "Epoch 57/90\n",
      "7/7 [==============================] - 1s 160ms/step - loss: 0.2545 - accuracy: 0.9350 - top_k_categorical_accuracy: 0.9937 - val_loss: 0.5302 - val_accuracy: 0.8750 - val_top_k_categorical_accuracy: 0.9900 - lr: 1.0000e-05\n",
      "Epoch 58/90\n",
      "7/7 [==============================] - 1s 161ms/step - loss: 0.2541 - accuracy: 0.9350 - top_k_categorical_accuracy: 0.9937 - val_loss: 0.5298 - val_accuracy: 0.8800 - val_top_k_categorical_accuracy: 0.9900 - lr: 1.0000e-05\n",
      "Epoch 59/90\n",
      "7/7 [==============================] - 1s 161ms/step - loss: 0.2538 - accuracy: 0.9350 - top_k_categorical_accuracy: 0.9937 - val_loss: 0.5303 - val_accuracy: 0.8750 - val_top_k_categorical_accuracy: 0.9900 - lr: 1.0000e-05\n",
      "Epoch 60/90\n",
      "7/7 [==============================] - 1s 160ms/step - loss: 0.2534 - accuracy: 0.9350 - top_k_categorical_accuracy: 0.9937 - val_loss: 0.5297 - val_accuracy: 0.8750 - val_top_k_categorical_accuracy: 0.9900 - lr: 1.0000e-05\n",
      "Epoch 61/90\n",
      "7/7 [==============================] - 1s 159ms/step - loss: 0.2531 - accuracy: 0.9350 - top_k_categorical_accuracy: 0.9937 - val_loss: 0.5294 - val_accuracy: 0.8750 - val_top_k_categorical_accuracy: 0.9900 - lr: 1.0000e-05\n",
      "Epoch 62/90\n",
      "7/7 [==============================] - 1s 159ms/step - loss: 0.2527 - accuracy: 0.9350 - top_k_categorical_accuracy: 0.9937 - val_loss: 0.5296 - val_accuracy: 0.8750 - val_top_k_categorical_accuracy: 0.9900 - lr: 1.0000e-05\n",
      "Epoch 63/90\n",
      "7/7 [==============================] - 1s 162ms/step - loss: 0.2525 - accuracy: 0.9337 - top_k_categorical_accuracy: 0.9937 - val_loss: 0.5291 - val_accuracy: 0.8800 - val_top_k_categorical_accuracy: 0.9900 - lr: 1.0000e-05\n",
      "Epoch 64/90\n",
      "7/7 [==============================] - 1s 162ms/step - loss: 0.2521 - accuracy: 0.9350 - top_k_categorical_accuracy: 0.9937 - val_loss: 0.5291 - val_accuracy: 0.8800 - val_top_k_categorical_accuracy: 0.9900 - lr: 1.0000e-05\n",
      "Epoch 65/90\n",
      "7/7 [==============================] - 1s 160ms/step - loss: 0.2517 - accuracy: 0.9350 - top_k_categorical_accuracy: 0.9937 - val_loss: 0.5289 - val_accuracy: 0.8800 - val_top_k_categorical_accuracy: 0.9900 - lr: 1.0000e-05\n",
      "Epoch 66/90\n",
      "7/7 [==============================] - 1s 160ms/step - loss: 0.2514 - accuracy: 0.9350 - top_k_categorical_accuracy: 0.9937 - val_loss: 0.5289 - val_accuracy: 0.8800 - val_top_k_categorical_accuracy: 0.9900 - lr: 1.0000e-05\n",
      "Epoch 67/90\n",
      "7/7 [==============================] - 1s 160ms/step - loss: 0.2512 - accuracy: 0.9362 - top_k_categorical_accuracy: 0.9937 - val_loss: 0.5287 - val_accuracy: 0.8800 - val_top_k_categorical_accuracy: 0.9900 - lr: 1.0000e-05\n",
      "Epoch 68/90\n",
      "7/7 [==============================] - 1s 162ms/step - loss: 0.2509 - accuracy: 0.9350 - top_k_categorical_accuracy: 0.9937 - val_loss: 0.5281 - val_accuracy: 0.8800 - val_top_k_categorical_accuracy: 0.9900 - lr: 1.0000e-05\n",
      "Epoch 69/90\n",
      "7/7 [==============================] - 1s 162ms/step - loss: 0.2506 - accuracy: 0.9350 - top_k_categorical_accuracy: 0.9937 - val_loss: 0.5271 - val_accuracy: 0.8800 - val_top_k_categorical_accuracy: 0.9900 - lr: 1.0000e-05\n",
      "Epoch 70/90\n",
      "7/7 [==============================] - 1s 159ms/step - loss: 0.2503 - accuracy: 0.9350 - top_k_categorical_accuracy: 0.9937 - val_loss: 0.5265 - val_accuracy: 0.8850 - val_top_k_categorical_accuracy: 0.9900 - lr: 1.0000e-05\n",
      "Epoch 71/90\n",
      "7/7 [==============================] - 1s 160ms/step - loss: 0.2499 - accuracy: 0.9362 - top_k_categorical_accuracy: 0.9937 - val_loss: 0.5261 - val_accuracy: 0.8850 - val_top_k_categorical_accuracy: 0.9900 - lr: 1.0000e-05\n",
      "Epoch 72/90\n",
      "7/7 [==============================] - 1s 159ms/step - loss: 0.2495 - accuracy: 0.9362 - top_k_categorical_accuracy: 0.9937 - val_loss: 0.5255 - val_accuracy: 0.8850 - val_top_k_categorical_accuracy: 0.9900 - lr: 1.0000e-05\n",
      "Epoch 73/90\n",
      "7/7 [==============================] - 1s 161ms/step - loss: 0.2492 - accuracy: 0.9362 - top_k_categorical_accuracy: 0.9937 - val_loss: 0.5258 - val_accuracy: 0.8850 - val_top_k_categorical_accuracy: 0.9900 - lr: 1.0000e-05\n",
      "Epoch 74/90\n",
      "7/7 [==============================] - 1s 161ms/step - loss: 0.2489 - accuracy: 0.9362 - top_k_categorical_accuracy: 0.9937 - val_loss: 0.5266 - val_accuracy: 0.8850 - val_top_k_categorical_accuracy: 0.9900 - lr: 1.0000e-05\n",
      "Epoch 75/90\n",
      "7/7 [==============================] - 1s 161ms/step - loss: 0.2486 - accuracy: 0.9362 - top_k_categorical_accuracy: 0.9937 - val_loss: 0.5267 - val_accuracy: 0.8800 - val_top_k_categorical_accuracy: 0.9900 - lr: 1.0000e-05\n",
      "Epoch 76/90\n",
      "7/7 [==============================] - 1s 160ms/step - loss: 0.2484 - accuracy: 0.9362 - top_k_categorical_accuracy: 0.9950 - val_loss: 0.5251 - val_accuracy: 0.8800 - val_top_k_categorical_accuracy: 0.9900 - lr: 1.0000e-05\n",
      "Epoch 77/90\n",
      "7/7 [==============================] - 1s 160ms/step - loss: 0.2480 - accuracy: 0.9362 - top_k_categorical_accuracy: 0.9950 - val_loss: 0.5242 - val_accuracy: 0.8850 - val_top_k_categorical_accuracy: 0.9900 - lr: 1.0000e-05\n",
      "Epoch 78/90\n",
      "7/7 [==============================] - 1s 162ms/step - loss: 0.2477 - accuracy: 0.9362 - top_k_categorical_accuracy: 0.9937 - val_loss: 0.5238 - val_accuracy: 0.8850 - val_top_k_categorical_accuracy: 0.9900 - lr: 1.0000e-05\n",
      "Epoch 79/90\n",
      "7/7 [==============================] - 1s 161ms/step - loss: 0.2474 - accuracy: 0.9362 - top_k_categorical_accuracy: 0.9937 - val_loss: 0.5237 - val_accuracy: 0.8850 - val_top_k_categorical_accuracy: 0.9900 - lr: 1.0000e-05\n",
      "Epoch 80/90\n",
      "7/7 [==============================] - 1s 160ms/step - loss: 0.2471 - accuracy: 0.9362 - top_k_categorical_accuracy: 0.9937 - val_loss: 0.5245 - val_accuracy: 0.8850 - val_top_k_categorical_accuracy: 0.9900 - lr: 1.0000e-05\n",
      "Epoch 81/90\n",
      "7/7 [==============================] - 1s 160ms/step - loss: 0.2469 - accuracy: 0.9362 - top_k_categorical_accuracy: 0.9937 - val_loss: 0.5252 - val_accuracy: 0.8800 - val_top_k_categorical_accuracy: 0.9900 - lr: 1.0000e-05\n",
      "Epoch 82/90\n",
      "7/7 [==============================] - 1s 161ms/step - loss: 0.2465 - accuracy: 0.9375 - top_k_categorical_accuracy: 0.9937 - val_loss: 0.5257 - val_accuracy: 0.8800 - val_top_k_categorical_accuracy: 0.9900 - lr: 1.0000e-05\n",
      "Epoch 83/90\n",
      "7/7 [==============================] - 1s 162ms/step - loss: 0.2462 - accuracy: 0.9375 - top_k_categorical_accuracy: 0.9937 - val_loss: 0.5259 - val_accuracy: 0.8800 - val_top_k_categorical_accuracy: 0.9900 - lr: 1.0000e-05\n",
      "Epoch 84/90\n",
      "7/7 [==============================] - 1s 162ms/step - loss: 0.2460 - accuracy: 0.9375 - top_k_categorical_accuracy: 0.9937 - val_loss: 0.5261 - val_accuracy: 0.8800 - val_top_k_categorical_accuracy: 0.9900 - lr: 1.0000e-05\n",
      "Epoch 85/90\n",
      "7/7 [==============================] - 1s 160ms/step - loss: 0.2458 - accuracy: 0.9375 - top_k_categorical_accuracy: 0.9937 - val_loss: 0.5255 - val_accuracy: 0.8850 - val_top_k_categorical_accuracy: 0.9900 - lr: 1.0000e-05\n",
      "Epoch 86/90\n",
      "7/7 [==============================] - 1s 159ms/step - loss: 0.2454 - accuracy: 0.9375 - top_k_categorical_accuracy: 0.9937 - val_loss: 0.5245 - val_accuracy: 0.8850 - val_top_k_categorical_accuracy: 0.9900 - lr: 1.0000e-05\n",
      "Epoch 87/90\n",
      "7/7 [==============================] - 1s 161ms/step - loss: 0.2451 - accuracy: 0.9375 - top_k_categorical_accuracy: 0.9937 - val_loss: 0.5241 - val_accuracy: 0.8850 - val_top_k_categorical_accuracy: 0.9900 - lr: 1.0000e-05\n",
      "Epoch 88/90\n",
      "7/7 [==============================] - 1s 161ms/step - loss: 0.2448 - accuracy: 0.9375 - top_k_categorical_accuracy: 0.9937 - val_loss: 0.5234 - val_accuracy: 0.8850 - val_top_k_categorical_accuracy: 0.9900 - lr: 1.0000e-05\n",
      "Epoch 89/90\n",
      "7/7 [==============================] - 1s 162ms/step - loss: 0.2445 - accuracy: 0.9375 - top_k_categorical_accuracy: 0.9937 - val_loss: 0.5232 - val_accuracy: 0.8850 - val_top_k_categorical_accuracy: 0.9900 - lr: 1.0000e-05\n",
      "Epoch 90/90\n",
      "7/7 [==============================] - 1s 161ms/step - loss: 0.2442 - accuracy: 0.9375 - top_k_categorical_accuracy: 0.9937 - val_loss: 0.5227 - val_accuracy: 0.8900 - val_top_k_categorical_accuracy: 0.9900 - lr: 1.0000e-05\n"
     ]
    },
    {
     "data": {
      "text/plain": [
       "<keras.callbacks.History at 0x7fbf41288670>"
      ]
     },
     "execution_count": 4,
     "metadata": {},
     "output_type": "execute_result"
    }
   ],
   "source": [
    "training_images = training_images[:1000]\n",
    "training_labels = training_labels[:1000]\n",
    "test_images = test_images[:100]\n",
    "test_labels = test_labels[:100]\n",
    "\n",
    "training_images = tf.map_fn(lambda i: tf.stack([i]*3, axis=-1), training_images).numpy()\n",
    "test_images = tf.map_fn(lambda i: tf.stack([i]*3, axis=-1), test_images).numpy()\n",
    "\n",
    "training_images = tf.image.resize(training_images, [224, 224]).numpy()\n",
    "test_images = tf.image.resize(test_images, [224, 224]).numpy()\n",
    "\n",
    "training_images = training_images.reshape(1000, 224, 224, 3)\n",
    "training_images = training_images / 255.0\n",
    "test_images = test_images.reshape(100, 224, 224, 3)\n",
    "test_images = test_images / 255.0\n",
    "\n",
    "training_labels = tf.keras.utils.to_categorical(training_labels, num_classes=10)\n",
    "test_labels = tf.keras.utils.to_categorical(test_labels, num_classes=10)\n",
    "\n",
    "num_len_train = int(0.8 * len(training_images))\n",
    "\n",
    "ttraining_images = training_images[:num_len_train]\n",
    "ttraining_labels = training_labels[:num_len_train]\n",
    "\n",
    "valid_images = training_images[num_len_train:]\n",
    "valid_labels = training_labels[num_len_train:]\n",
    "\n",
    "training_images = ttraining_images\n",
    "training_labels = ttraining_labels\n",
    "\n",
    "model = tf.keras.models.Sequential([\n",
    "                                    \n",
    "\t\ttf.keras.layers.Conv2D(96, (7, 7), strides=(2, 2), activation='relu',\n",
    "\t\t\tinput_shape=(224, 224, 3)),\n",
    "\t\ttf.keras.layers.MaxPooling2D(3, strides=2),\n",
    "    tf.keras.layers.Lambda(lambda x: tf.image.per_image_standardization(x)),\n",
    "\n",
    "\t\ttf.keras.layers.Conv2D(256, (5, 5), strides=(2, 2), activation='relu'),\n",
    "\t\ttf.keras.layers.MaxPooling2D(3, strides=2),\n",
    "    tf.keras.layers.Lambda(lambda x: tf.image.per_image_standardization(x)),\n",
    "\n",
    "\t\ttf.keras.layers.Conv2D(384, (3, 3), activation='relu'),\n",
    "\n",
    "\t\ttf.keras.layers.Conv2D(384, (3, 3), activation='relu'),\n",
    "\n",
    "\t\ttf.keras.layers.Conv2D(256, (3, 3), activation='relu'),\n",
    "\n",
    "\t\ttf.keras.layers.MaxPooling2D(3, strides=2),\n",
    "\n",
    "    tf.keras.layers.Flatten(),\n",
    "\n",
    "\t\ttf.keras.layers.Dense(4096),\n",
    "\n",
    "\t\ttf.keras.layers.Dense(4096),\n",
    "\n",
    "\t\ttf.keras.layers.Dense(10, activation='softmax')\n",
    "\t])\n",
    "\n",
    "\n",
    "model.compile(optimizer=tf.keras.optimizers.SGD(lr=0.01, momentum=0.9), \\\n",
    "              loss='categorical_crossentropy', \\\n",
    "              metrics=['accuracy', tf.keras.metrics.TopKCategoricalAccuracy(5)])\n",
    "\n",
    "reduce_lr = tf.keras.callbacks.ReduceLROnPlateau(monitor='val_loss', \\\n",
    "                                            \t\tfactor=0.1, patience=1, \\\n",
    "\t\t\t\t\t\t\t\t\t\t\t\t\t\t\t\t\t\t\t\t\t\t\t\tmin_lr=0.00001)\n",
    "\n",
    "model.fit(training_images, training_labels, batch_size=128, \\\n",
    "          validation_data=(valid_images, valid_labels), \\\n",
    "\t\t\t\t\tepochs=90, callbacks=[reduce_lr])\n"
   ]
  },
  {
   "cell_type": "markdown",
   "id": "c9d43d1c-41ee-45f0-a341-3d2757eb5a12",
   "metadata": {},
   "source": [
    "## Evaluate the trained model"
   ]
  },
  {
   "cell_type": "code",
   "execution_count": 5,
   "id": "b7c21960-4a3d-46cb-8dfd-d3b8a8314ca7",
   "metadata": {},
   "outputs": [
    {
     "name": "stdout",
     "output_type": "stream",
     "text": [
      "4/4 [==============================] - 0s 44ms/step - loss: 0.4257 - accuracy: 0.8800 - top_k_categorical_accuracy: 0.9900\n"
     ]
    },
    {
     "data": {
      "text/plain": [
       "[0.42566344141960144, 0.8799999952316284, 0.9900000095367432]"
      ]
     },
     "execution_count": 5,
     "metadata": {},
     "output_type": "execute_result"
    }
   ],
   "source": [
    "model.evaluate(test_images,test_labels)"
   ]
  },
  {
   "cell_type": "code",
   "execution_count": 6,
   "id": "613c3593-830c-40c6-b97b-91ccb8838938",
   "metadata": {},
   "outputs": [],
   "source": [
    "from sklearn.metrics import classification_report"
   ]
  },
  {
   "cell_type": "code",
   "execution_count": 7,
   "id": "18b52e25-9d06-4e81-b6c7-d317e158b35f",
   "metadata": {},
   "outputs": [],
   "source": [
    "predictions = (model.predict(test_images) > 0.5).astype(\"int32\")"
   ]
  },
  {
   "cell_type": "code",
   "execution_count": 8,
   "id": "37a2dd7f-3232-4b86-84e0-4e4b7137660b",
   "metadata": {},
   "outputs": [
    {
     "name": "stdout",
     "output_type": "stream",
     "text": [
      "              precision    recall  f1-score   support\n",
      "\n",
      "           0       1.00      1.00      1.00         8\n",
      "           1       1.00      1.00      1.00        14\n",
      "           2       0.75      0.75      0.75         8\n",
      "           3       1.00      0.82      0.90        11\n",
      "           4       0.80      0.86      0.83        14\n",
      "           5       1.00      0.86      0.92         7\n",
      "           6       1.00      0.60      0.75        10\n",
      "           7       0.92      0.80      0.86        15\n",
      "           8       0.50      1.00      0.67         2\n",
      "           9       0.90      0.82      0.86        11\n",
      "\n",
      "   micro avg       0.90      0.84      0.87       100\n",
      "   macro avg       0.89      0.85      0.85       100\n",
      "weighted avg       0.92      0.84      0.87       100\n",
      " samples avg       0.84      0.84      0.84       100\n",
      "\n"
     ]
    },
    {
     "name": "stderr",
     "output_type": "stream",
     "text": [
      "/home/luke/anaconda3/lib/python3.9/site-packages/sklearn/metrics/_classification.py:1248: UndefinedMetricWarning: Precision and F-score are ill-defined and being set to 0.0 in samples with no predicted labels. Use `zero_division` parameter to control this behavior.\n",
      "  _warn_prf(average, modifier, msg_start, len(result))\n"
     ]
    }
   ],
   "source": [
    "print(classification_report(test_labels, predictions))"
   ]
  },
  {
   "cell_type": "markdown",
   "id": "006c0524-22ef-4ad4-8403-faec5dc9f5f4",
   "metadata": {},
   "source": [
    "## Free up the GPU's memory"
   ]
  },
  {
   "cell_type": "code",
   "execution_count": 9,
   "id": "4b4c59ac-35fd-420c-ab71-2dc2c7c457ce",
   "metadata": {},
   "outputs": [],
   "source": [
    "from numba import cuda\n",
    "cuda.select_device(0)\n",
    "cuda.close()"
   ]
  },
  {
   "cell_type": "code",
   "execution_count": null,
   "id": "f3e26dd5-f8f1-40be-81d5-d9be1b3f8467",
   "metadata": {},
   "outputs": [],
   "source": []
  }
 ],
 "metadata": {
  "kernelspec": {
   "display_name": "Python 3 (ipykernel)",
   "language": "python",
   "name": "python3"
  },
  "language_info": {
   "codemirror_mode": {
    "name": "ipython",
    "version": 3
   },
   "file_extension": ".py",
   "mimetype": "text/x-python",
   "name": "python",
   "nbconvert_exporter": "python",
   "pygments_lexer": "ipython3",
   "version": "3.9.7"
  }
 },
 "nbformat": 4,
 "nbformat_minor": 5
}
